{
 "cells": [
  {
   "cell_type": "markdown",
   "metadata": {},
   "source": [
    "## Data Interpretation"
   ]
  },
  {
   "cell_type": "markdown",
   "metadata": {},
   "source": [
    "In this Jupyter notebook, we interpret and visualize data collected in previous notebook. In the first part, we import all packages needed in following steps. Then, we load the data and provide a descriptive statistics. We determine location of the user and based on that, we select 5 nearest places to user's location. Finally, we visualize data on an interactive leaflet map."
   ]
  },
  {
   "cell_type": "markdown",
   "metadata": {},
   "source": [
    "### Import of packages"
   ]
  },
  {
   "cell_type": "markdown",
   "metadata": {},
   "source": [
    "In this section, we import all packages that are necessary for *data interpretation* as well as for their *visualization*. First, we import pandas, geopandas, json, numpy and matpotlib.pyplot in order to process the data. Then, we import Nominatim from geopy.geocoders in order to determine the location of the user. To perform geodetic computations, we import Geod from pyproj. Finally, we import folium and its plugin to visualize data."
   ]
  },
  {
   "cell_type": "code",
   "execution_count": 57,
   "metadata": {},
   "outputs": [],
   "source": [
    "import pandas as pd\n",
    "import geopandas as gpd\n",
    "import json\n",
    "import numpy as np\n",
    "import matplotlib.pyplot as plt\n",
    "\n",
    "from geopy.geocoders import Nominatim\n",
    "\n",
    "from pyproj import Geod\n",
    "\n",
    "#we put following line into terminal: \"python -m pip install folium\"\n",
    "import folium\n",
    "from folium.plugins import MarkerCluster"
   ]
  },
  {
   "cell_type": "markdown",
   "metadata": {},
   "source": [
    "### Data loading & descriptive statistics"
   ]
  },
  {
   "cell_type": "markdown",
   "metadata": {},
   "source": [
    "After importing packages, it is necessary to download json data from API. Data are then merged and prepared in csv file."
   ]
  },
  {
   "cell_type": "code",
   "execution_count": 58,
   "metadata": {},
   "outputs": [],
   "source": [
    "swim_data = pd.read_csv('raw_data.csv')"
   ]
  },
  {
   "cell_type": "markdown",
   "metadata": {},
   "source": [
    "We provide desriptive statistics, including only numeric columns. Since column *ID* and column *id_a* (which are identical) are not useful for the purpose of data description, we remove both of them."
   ]
  },
  {
   "cell_type": "code",
   "execution_count": 59,
   "metadata": {},
   "outputs": [
    {
     "data": {
      "text/html": [
       "<div>\n",
       "<style scoped>\n",
       "    .dataframe tbody tr th:only-of-type {\n",
       "        vertical-align: middle;\n",
       "    }\n",
       "\n",
       "    .dataframe tbody tr th {\n",
       "        vertical-align: top;\n",
       "    }\n",
       "\n",
       "    .dataframe thead th {\n",
       "        text-align: right;\n",
       "    }\n",
       "</style>\n",
       "<table border=\"1\" class=\"dataframe\">\n",
       "  <thead>\n",
       "    <tr style=\"text-align: right;\">\n",
       "      <th></th>\n",
       "      <th>Average rating</th>\n",
       "      <th>Number of ratings</th>\n",
       "      <th>Longitude</th>\n",
       "      <th>Latitude</th>\n",
       "    </tr>\n",
       "  </thead>\n",
       "  <tbody>\n",
       "    <tr>\n",
       "      <th>count</th>\n",
       "      <td>18.0</td>\n",
       "      <td>20.0</td>\n",
       "      <td>20.000000</td>\n",
       "      <td>20.000000</td>\n",
       "    </tr>\n",
       "    <tr>\n",
       "      <th>mean</th>\n",
       "      <td>4.0</td>\n",
       "      <td>4.0</td>\n",
       "      <td>49.114230</td>\n",
       "      <td>14.603510</td>\n",
       "    </tr>\n",
       "    <tr>\n",
       "      <th>std</th>\n",
       "      <td>1.0</td>\n",
       "      <td>3.0</td>\n",
       "      <td>2.100714</td>\n",
       "      <td>3.052217</td>\n",
       "    </tr>\n",
       "    <tr>\n",
       "      <th>min</th>\n",
       "      <td>2.0</td>\n",
       "      <td>0.0</td>\n",
       "      <td>41.760320</td>\n",
       "      <td>2.983775</td>\n",
       "    </tr>\n",
       "    <tr>\n",
       "      <th>25%</th>\n",
       "      <td>4.0</td>\n",
       "      <td>2.0</td>\n",
       "      <td>49.065163</td>\n",
       "      <td>14.315799</td>\n",
       "    </tr>\n",
       "    <tr>\n",
       "      <th>50%</th>\n",
       "      <td>4.0</td>\n",
       "      <td>4.0</td>\n",
       "      <td>50.001197</td>\n",
       "      <td>14.636598</td>\n",
       "    </tr>\n",
       "    <tr>\n",
       "      <th>75%</th>\n",
       "      <td>5.0</td>\n",
       "      <td>6.0</td>\n",
       "      <td>50.152053</td>\n",
       "      <td>15.829210</td>\n",
       "    </tr>\n",
       "    <tr>\n",
       "      <th>max</th>\n",
       "      <td>5.0</td>\n",
       "      <td>12.0</td>\n",
       "      <td>50.279876</td>\n",
       "      <td>19.445608</td>\n",
       "    </tr>\n",
       "  </tbody>\n",
       "</table>\n",
       "</div>"
      ],
      "text/plain": [
       "       Average rating  Number of ratings  Longitude   Latitude\n",
       "count            18.0               20.0  20.000000  20.000000\n",
       "mean              4.0                4.0  49.114230  14.603510\n",
       "std               1.0                3.0   2.100714   3.052217\n",
       "min               2.0                0.0  41.760320   2.983775\n",
       "25%               4.0                2.0  49.065163  14.315799\n",
       "50%               4.0                4.0  50.001197  14.636598\n",
       "75%               5.0                6.0  50.152053  15.829210\n",
       "max               5.0               12.0  50.279876  19.445608"
      ]
     },
     "execution_count": 59,
     "metadata": {},
     "output_type": "execute_result"
    }
   ],
   "source": [
    "swim_desc = swim_data.drop('id_a', 1).drop('ID', 1).drop('Unnamed: 0', 1)\n",
    "desc = swim_desc.describe(include = [np.number])\n",
    "\n",
    "#We round values in column Average rating and Number of rating to one decimal point and display the results.\n",
    "av_rat = desc[['Average rating']]\n",
    "desc.loc[:, av_rat.columns] = np.round(av_rat)\n",
    "\n",
    "num_rat = desc[['Number of ratings']]\n",
    "desc.loc[:, num_rat.columns] = np.round(num_rat)\n",
    "\n",
    "desc"
   ]
  },
  {
   "cell_type": "markdown",
   "metadata": {},
   "source": [
    "To prepare data for another part, we will select only columns with Name, Latitude, Longitude and Average rating of each location. We display first rows of our data to make sure that they are in desired format."
   ]
  },
  {
   "cell_type": "code",
   "execution_count": 60,
   "metadata": {},
   "outputs": [
    {
     "data": {
      "text/html": [
       "<div>\n",
       "<style scoped>\n",
       "    .dataframe tbody tr th:only-of-type {\n",
       "        vertical-align: middle;\n",
       "    }\n",
       "\n",
       "    .dataframe tbody tr th {\n",
       "        vertical-align: top;\n",
       "    }\n",
       "\n",
       "    .dataframe thead th {\n",
       "        text-align: right;\n",
       "    }\n",
       "</style>\n",
       "<table border=\"1\" class=\"dataframe\">\n",
       "  <thead>\n",
       "    <tr style=\"text-align: right;\">\n",
       "      <th></th>\n",
       "      <th>Name</th>\n",
       "      <th>Latitude</th>\n",
       "      <th>Longitude</th>\n",
       "      <th>Average rating</th>\n",
       "      <th>Entrance</th>\n",
       "      <th>Nudist beach</th>\n",
       "    </tr>\n",
       "  </thead>\n",
       "  <tbody>\n",
       "    <tr>\n",
       "      <th>0</th>\n",
       "      <td>Costa Brava</td>\n",
       "      <td>2.983775</td>\n",
       "      <td>41.760320</td>\n",
       "      <td>NaN</td>\n",
       "      <td>No entrance fee</td>\n",
       "      <td>Not suitable for nudists</td>\n",
       "    </tr>\n",
       "    <tr>\n",
       "      <th>1</th>\n",
       "      <td>Nádrž Dolní Žleb</td>\n",
       "      <td>17.307842</td>\n",
       "      <td>49.751182</td>\n",
       "      <td>2.0</td>\n",
       "      <td>No entrance fee</td>\n",
       "      <td>Not suitable for nudists</td>\n",
       "    </tr>\n",
       "    <tr>\n",
       "      <th>2</th>\n",
       "      <td>Kralupy nad Vltavou</td>\n",
       "      <td>14.307153</td>\n",
       "      <td>50.256161</td>\n",
       "      <td>5.0</td>\n",
       "      <td>Entrance fee</td>\n",
       "      <td>Not suitable for nudists</td>\n",
       "    </tr>\n",
       "    <tr>\n",
       "      <th>3</th>\n",
       "      <td>Koupaliště Flošna</td>\n",
       "      <td>15.841977</td>\n",
       "      <td>50.205154</td>\n",
       "      <td>4.8</td>\n",
       "      <td>Entrance fee</td>\n",
       "      <td>Suitable for nudists</td>\n",
       "    </tr>\n",
       "    <tr>\n",
       "      <th>4</th>\n",
       "      <td>Městské lázně</td>\n",
       "      <td>15.828759</td>\n",
       "      <td>50.214217</td>\n",
       "      <td>4.5</td>\n",
       "      <td>Entrance fee</td>\n",
       "      <td>Not suitable for nudists</td>\n",
       "    </tr>\n",
       "  </tbody>\n",
       "</table>\n",
       "</div>"
      ],
      "text/plain": [
       "                  Name   Latitude  Longitude  Average rating         Entrance  \\\n",
       "0          Costa Brava   2.983775  41.760320             NaN  No entrance fee   \n",
       "1     Nádrž Dolní Žleb  17.307842  49.751182             2.0  No entrance fee   \n",
       "2  Kralupy nad Vltavou  14.307153  50.256161             5.0     Entrance fee   \n",
       "3    Koupaliště Flošna  15.841977  50.205154             4.8     Entrance fee   \n",
       "4        Městské lázně  15.828759  50.214217             4.5     Entrance fee   \n",
       "\n",
       "               Nudist beach  \n",
       "0  Not suitable for nudists  \n",
       "1  Not suitable for nudists  \n",
       "2  Not suitable for nudists  \n",
       "3      Suitable for nudists  \n",
       "4  Not suitable for nudists  "
      ]
     },
     "execution_count": 60,
     "metadata": {},
     "output_type": "execute_result"
    }
   ],
   "source": [
    "swim_loc = swim_data[['Name','Latitude','Longitude', 'Average rating', 'Entrance', 'Nudist beach']]\n",
    "\n",
    "swim_loc.head()"
   ]
  },
  {
   "cell_type": "markdown",
   "metadata": {},
   "source": [
    "To find a set of coordinates corresponding to the address, we use Nominatim imported from geopy.geocoders. Nominatim uses OpenStreetMap data to find any locations on Earth by name and address (geocoding) and to detect its coordinates. It can also do the reverse. \n",
    "\n",
    "Any user of this application can insert his location (city is enough) into the brackets and the application will determine precise address as well as the coordinates of that place. We display this location and both, the latitude and the longitude of that place."
   ]
  },
  {
   "cell_type": "code",
   "execution_count": 61,
   "metadata": {},
   "outputs": [
    {
     "name": "stdout",
     "output_type": "stream",
     "text": [
      "Your location is  Litomyšl, okres Svitavy, Pardubický kraj, Severovýchod, 570 01, Česká republika .\n",
      "Latitude = 49.8725491, Longitude = 16.3101243\n"
     ]
    }
   ],
   "source": [
    "geolocator = Nominatim(user_agent='myapplication')\n",
    "\n",
    "# Insert city of your location:\n",
    "location = geolocator.geocode(\"Litomyšl\")\n",
    "\n",
    "print(\"Your location is \", location.address, \".\")\n",
    "print(\"Latitude = {}, Longitude = {}\".format(location.latitude, location.longitude))"
   ]
  },
  {
   "cell_type": "markdown",
   "metadata": {},
   "source": [
    "Ater we know location of user, the application can measure the distance between that location and all the places in the dataset. We decided to use World Geodetic System (WGS) ellipsoid to measure the distances as it the estimated accuracy of this approach is very high."
   ]
  },
  {
   "cell_type": "code",
   "execution_count": 62,
   "metadata": {},
   "outputs": [
    {
     "data": {
      "text/html": [
       "<div>\n",
       "<style scoped>\n",
       "    .dataframe tbody tr th:only-of-type {\n",
       "        vertical-align: middle;\n",
       "    }\n",
       "\n",
       "    .dataframe tbody tr th {\n",
       "        vertical-align: top;\n",
       "    }\n",
       "\n",
       "    .dataframe thead th {\n",
       "        text-align: right;\n",
       "    }\n",
       "</style>\n",
       "<table border=\"1\" class=\"dataframe\">\n",
       "  <thead>\n",
       "    <tr style=\"text-align: right;\">\n",
       "      <th></th>\n",
       "      <th>Name</th>\n",
       "      <th>Average rating</th>\n",
       "      <th>Latitude_1</th>\n",
       "      <th>Longitude_1</th>\n",
       "      <th>Latitude_2</th>\n",
       "      <th>Longitude_2</th>\n",
       "      <th>Distance</th>\n",
       "    </tr>\n",
       "  </thead>\n",
       "  <tbody>\n",
       "    <tr>\n",
       "      <th>0</th>\n",
       "      <td>Costa Brava</td>\n",
       "      <td>NaN</td>\n",
       "      <td>49.872549</td>\n",
       "      <td>16.310124</td>\n",
       "      <td>2.983775</td>\n",
       "      <td>41.760320</td>\n",
       "      <td>5725.521722</td>\n",
       "    </tr>\n",
       "    <tr>\n",
       "      <th>1</th>\n",
       "      <td>Nádrž Dolní Žleb</td>\n",
       "      <td>2.0</td>\n",
       "      <td>49.872549</td>\n",
       "      <td>16.310124</td>\n",
       "      <td>17.307842</td>\n",
       "      <td>49.751182</td>\n",
       "      <td>4688.608866</td>\n",
       "    </tr>\n",
       "    <tr>\n",
       "      <th>2</th>\n",
       "      <td>Kralupy nad Vltavou</td>\n",
       "      <td>5.0</td>\n",
       "      <td>49.872549</td>\n",
       "      <td>16.310124</td>\n",
       "      <td>14.307153</td>\n",
       "      <td>50.256161</td>\n",
       "      <td>5000.285866</td>\n",
       "    </tr>\n",
       "    <tr>\n",
       "      <th>3</th>\n",
       "      <td>Koupaliště Flošna</td>\n",
       "      <td>4.8</td>\n",
       "      <td>49.872549</td>\n",
       "      <td>16.310124</td>\n",
       "      <td>15.841977</td>\n",
       "      <td>50.205154</td>\n",
       "      <td>4852.033516</td>\n",
       "    </tr>\n",
       "    <tr>\n",
       "      <th>4</th>\n",
       "      <td>Městské lázně</td>\n",
       "      <td>4.5</td>\n",
       "      <td>49.872549</td>\n",
       "      <td>16.310124</td>\n",
       "      <td>15.828759</td>\n",
       "      <td>50.214217</td>\n",
       "      <td>4853.787915</td>\n",
       "    </tr>\n",
       "  </tbody>\n",
       "</table>\n",
       "</div>"
      ],
      "text/plain": [
       "                  Name  Average rating  Latitude_1  Longitude_1  Latitude_2  \\\n",
       "0          Costa Brava             NaN   49.872549    16.310124    2.983775   \n",
       "1     Nádrž Dolní Žleb             2.0   49.872549    16.310124   17.307842   \n",
       "2  Kralupy nad Vltavou             5.0   49.872549    16.310124   14.307153   \n",
       "3    Koupaliště Flošna             4.8   49.872549    16.310124   15.841977   \n",
       "4        Městské lázně             4.5   49.872549    16.310124   15.828759   \n",
       "\n",
       "   Longitude_2     Distance  \n",
       "0    41.760320  5725.521722  \n",
       "1    49.751182  4688.608866  \n",
       "2    50.256161  5000.285866  \n",
       "3    50.205154  4852.033516  \n",
       "4    50.214217  4853.787915  "
      ]
     },
     "execution_count": 62,
     "metadata": {},
     "output_type": "execute_result"
    }
   ],
   "source": [
    "#We use World Geodetic System ellipsoid to measure the distance.\n",
    "g = Geod(ellps='WGS84')\n",
    "\n",
    "#We declare a function measuring distance between pairs of latitude-longitude points.\n",
    "def Distance(name, lat1, lon1, lat2, lon2, rating):\n",
    "    az12,az21,dist = g.inv(lon1, lat1, lon2, lat2)\n",
    "    return dist\n",
    "\n",
    "#As lat1 and lon1, we will use latitude and longitude of user's location.\n",
    "name = swim_loc['Name']\n",
    "lat1 = location.latitude\n",
    "lon1 = location.longitude\n",
    "lat2 = swim_loc['Latitude']\n",
    "lon2 = swim_loc['Longitude']\n",
    "rating = swim_loc['Average rating']\n",
    "\n",
    "#We define new dataframe including values of columns from swim_loc.\n",
    "df = pd.DataFrame({'Name':name,'Average rating':rating,'Latitude_1':lat1,'Longitude_1':lon1,'Latitude_2':lat2,'Longitude_2':lon2})\n",
    "\n",
    "#We add a column with distance in metres using distance function.\n",
    "df['Distance'] = Distance(df['Name'].tolist(),df['Latitude_1'].tolist(),df['Longitude_1'].tolist(),df['Latitude_2'].tolist(),df['Longitude_2'].tolist(),df['Average rating'].tolist())\n",
    "\n",
    "#Then we convert column with distance to kilometers and display first rows of new dataframe.\n",
    "df['Distance'] = (1/1000)*df['Distance']\n",
    "\n",
    "df.head()"
   ]
  },
  {
   "cell_type": "markdown",
   "metadata": {},
   "source": [
    "We select 5 geographically nearest places to user's location and sort those places by the average rating. If there is \"NaN\" value in Average rating column, meaning there are no ratings for such a place, we put a zero instead of that value. It is because when there is no rating for some place, user does not have any feedback of that place. Therefore, we prefer places with at least one rating and we put places with no ratings at the bottom of our table.\n",
    "\n",
    "As a result, we have a table of 5 places  with the shortest distance from user's current location. Moreover, these places are sorted by the average rating, having the highest-rated place at the top and lowest-rated place at the bottom. In this way, user of this application can choose a location for swimming very easily."
   ]
  },
  {
   "cell_type": "code",
   "execution_count": 63,
   "metadata": {},
   "outputs": [
    {
     "data": {
      "text/html": [
       "<div>\n",
       "<style scoped>\n",
       "    .dataframe tbody tr th:only-of-type {\n",
       "        vertical-align: middle;\n",
       "    }\n",
       "\n",
       "    .dataframe tbody tr th {\n",
       "        vertical-align: top;\n",
       "    }\n",
       "\n",
       "    .dataframe thead th {\n",
       "        text-align: right;\n",
       "    }\n",
       "</style>\n",
       "<table border=\"1\" class=\"dataframe\">\n",
       "  <thead>\n",
       "    <tr style=\"text-align: right;\">\n",
       "      <th></th>\n",
       "      <th>Name</th>\n",
       "      <th>Average rating</th>\n",
       "      <th>Latitude_2</th>\n",
       "      <th>Longitude_2</th>\n",
       "      <th>Distance</th>\n",
       "    </tr>\n",
       "  </thead>\n",
       "  <tbody>\n",
       "    <tr>\n",
       "      <th>0</th>\n",
       "      <td>Romantická pláž</td>\n",
       "      <td>5.0</td>\n",
       "      <td>14.768348</td>\n",
       "      <td>44.922321</td>\n",
       "      <td>4676.0</td>\n",
       "    </tr>\n",
       "    <tr>\n",
       "      <th>1</th>\n",
       "      <td>Sluneční pláž</td>\n",
       "      <td>5.0</td>\n",
       "      <td>15.782788</td>\n",
       "      <td>50.033879</td>\n",
       "      <td>4848.0</td>\n",
       "    </tr>\n",
       "    <tr>\n",
       "      <th>2</th>\n",
       "      <td>Termální koupaliště Bešeňová</td>\n",
       "      <td>4.0</td>\n",
       "      <td>19.445608</td>\n",
       "      <td>49.100166</td>\n",
       "      <td>4452.0</td>\n",
       "    </tr>\n",
       "    <tr>\n",
       "      <th>3</th>\n",
       "      <td>Plavecký bazén Ústí nad Orlicí</td>\n",
       "      <td>4.0</td>\n",
       "      <td>16.402715</td>\n",
       "      <td>49.975747</td>\n",
       "      <td>4786.0</td>\n",
       "    </tr>\n",
       "    <tr>\n",
       "      <th>4</th>\n",
       "      <td>Nádrž Dolní Žleb</td>\n",
       "      <td>2.0</td>\n",
       "      <td>17.307842</td>\n",
       "      <td>49.751182</td>\n",
       "      <td>4689.0</td>\n",
       "    </tr>\n",
       "  </tbody>\n",
       "</table>\n",
       "</div>"
      ],
      "text/plain": [
       "                             Name  Average rating  Latitude_2  Longitude_2  \\\n",
       "0                 Romantická pláž             5.0   14.768348    44.922321   \n",
       "1                   Sluneční pláž             5.0   15.782788    50.033879   \n",
       "2    Termální koupaliště Bešeňová             4.0   19.445608    49.100166   \n",
       "3  Plavecký bazén Ústí nad Orlicí             4.0   16.402715    49.975747   \n",
       "4                Nádrž Dolní Žleb             2.0   17.307842    49.751182   \n",
       "\n",
       "   Distance  \n",
       "0    4676.0  \n",
       "1    4848.0  \n",
       "2    4452.0  \n",
       "3    4786.0  \n",
       "4    4689.0  "
      ]
     },
     "execution_count": 63,
     "metadata": {},
     "output_type": "execute_result"
    }
   ],
   "source": [
    "#We define new dataframe with 5 geographicaly nearest places to user's location. \n",
    "df_map = df.nsmallest(5, columns=['Distance']).sort_values(['Average rating'], ascending=[False])\n",
    "\n",
    "#We remove columns Latitude 1 and Longitude 1 as those coordinates are identical for all rows and we don't need them.\n",
    "df_map.drop(['Latitude_1','Longitude_1'], axis=1, inplace=True)\n",
    "\n",
    "#Then, we reset indexing of rows for easier manipulation with data in future steps.\n",
    "df_map.reset_index(drop=True, inplace=True)\n",
    "\n",
    "#replacing NaN values with \"x\"\n",
    "df_map.loc[np.isnan(df_map[\"Average rating\"]), 'Average rating'] = 0\n",
    "\n",
    "#We round values in column Average rating and Distance to one decimal point and display the result.\n",
    "av_rat1 = df_map[['Average rating']]\n",
    "df_map.loc[:, av_rat1.columns] = np.round(av_rat1)\n",
    "\n",
    "dist = df_map[['Distance']]\n",
    "df_map.loc[:, dist.columns] = np.round(dist)\n",
    "\n",
    "df_map"
   ]
  },
  {
   "cell_type": "markdown",
   "metadata": {},
   "source": [
    "### Data visualization"
   ]
  },
  {
   "cell_type": "markdown",
   "metadata": {},
   "source": [
    "In the final part, we  analyze and visualize collected and summarized data."
   ]
  },
  {
   "cell_type": "markdown",
   "metadata": {},
   "source": [
    "As the first visualization, we  map all the points from the original dataset, using the Folium module. Since most of the places are located in the Czech Republic, we put latitude and longitude of the Czech Republic as the initial coordinates of the map."
   ]
  },
  {
   "cell_type": "code",
   "execution_count": 71,
   "metadata": {},
   "outputs": [
    {
     "name": "stderr",
     "output_type": "stream",
     "text": [
      "/Users/Andrea/opt/anaconda3/lib/python3.7/site-packages/ipykernel_launcher.py:2: SettingWithCopyWarning: \n",
      "A value is trying to be set on a copy of a slice from a DataFrame.\n",
      "Try using .loc[row_indexer,col_indexer] = value instead\n",
      "\n",
      "See the caveats in the documentation: https://pandas.pydata.org/pandas-docs/stable/user_guide/indexing.html#returning-a-view-versus-a-copy\n",
      "  \n"
     ]
    },
    {
     "data": {
      "text/html": [
       "<div style=\"width:100%;\"><div style=\"position:relative;width:100%;height:0;padding-bottom:60%;\"><span style=\"color:#565656\">Make this Notebook Trusted to load map: File -> Trust Notebook</span><iframe src=\"about:blank\" style=\"position:absolute;width:100%;height:100%;left:0;top:0;border:none !important;\" data-html=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 onload=\"this.contentDocument.open();this.contentDocument.write(atob(this.getAttribute('data-html')));this.contentDocument.close();\" allowfullscreen webkitallowfullscreen mozallowfullscreen></iframe></div></div>"
      ],
      "text/plain": [
       "<folium.folium.Map at 0x121bec410>"
      ]
     },
     "execution_count": 71,
     "metadata": {},
     "output_type": "execute_result"
    }
   ],
   "source": [
    "#We need to remove punctuation from 'Name' column since the map does not display those letters correctly.\n",
    "swim_loc['Name'] = swim_loc['Name'].str.replace('á','a').str.replace('í','i').str.replace('é','e').str.replace('ě','e').str.replace('š','s').str.replace('Š','S').str.replace('č','c').str.replace('Č','C').str.replace('ř','r').str.replace('Ř','R').str.replace('ž','z').str.replace('Ž','Z').str.replace('ý','y').str.replace('ů','u').str.replace('ú','u').str.replace('Ú','U').str.replace('ň','n')\n",
    "\n",
    "#We create map object using Folium. Based on our preferences, we set tiles to cartodbpositron and zoom_start to 8.\n",
    "map0 = folium.Map(\n",
    "    location=[49.8037633, 15.4749126],\n",
    "    tiles='cartodbpositron',\n",
    "    zoom_start=8\n",
    "    )\n",
    "\n",
    "#Then we create a list of latitude and longitude coordinate pairs.\n",
    "map_locations0 = swim_locc[['Latitude', 'Longitude']]\n",
    "locationlist0 = map_locations0.values.tolist()\n",
    "\n",
    "#We set parameters of markers so that all points are well visible and recognizable. We add these markers to our map.\n",
    "for point in range(0, len(locationlist0)):\n",
    "    folium.Marker(locationlist0[point], \n",
    "                  popup=swim_locc['Name'][point], \n",
    "                  icon=folium.Icon(color='darkblue', icon='tint')\n",
    "                 ).add_to(map0)    \n",
    "    \n",
    "#We create marker clusters that group points that overlap.\n",
    "marker_cluster = folium.plugins.MarkerCluster().add_to(map0)    \n",
    "    \n",
    "map0"
   ]
  },
  {
   "cell_type": "markdown",
   "metadata": {},
   "source": [
    "Then, we visualize a map where lacations have markers with color range based on the average rating of that location. In other words, we differentiate the places by average rating. To do that, we create a function to assign a unique color to each rating (rounded to whole number). The list of rating and corresponding color looks like this:\n",
    "\n",
    "* 5 - darker green\n",
    "* 4 - ligher green\n",
    "* 3 - orange\n",
    "* 2 - lighter red\n",
    "* 1 - darker red\n",
    "* x (NaN) - grey"
   ]
  },
  {
   "cell_type": "code",
   "execution_count": 72,
   "metadata": {},
   "outputs": [
    {
     "data": {
      "text/html": [
       "<div style=\"width:100%;\"><div style=\"position:relative;width:100%;height:0;padding-bottom:60%;\"><span style=\"color:#565656\">Make this Notebook Trusted to load map: File -> Trust Notebook</span><iframe src=\"about:blank\" style=\"position:absolute;width:100%;height:100%;left:0;top:0;border:none !important;\" data-html=PCFET0NUWVBFIGh0bWw+CjxoZWFkPiAgICAKICAgIDxtZXRhIGh0dHAtZXF1aXY9ImNvbnRlbnQtdHlwZSIgY29udGVudD0idGV4dC9odG1sOyBjaGFyc2V0PVVURi04IiAvPgogICAgCiAgICAgICAgPHNjcmlwdD4KICAgICAgICAgICAgTF9OT19UT1VDSCA9IGZhbHNlOwogICAgICAgICAgICBMX0RJU0FCTEVfM0QgPSBmYWxzZTsKICAgICAgICA8L3NjcmlwdD4KICAgIAogICAgPHNjcmlwdCBzcmM9Imh0dHBzOi8vY2RuLmpzZGVsaXZyLm5ldC9ucG0vbGVhZmxldEAxLjYuMC9kaXN0L2xlYWZsZXQuanMiPjwvc2NyaXB0PgogICAgPHNjcmlwdCBzcmM9Imh0dHBzOi8vY29kZS5qcXVlcnkuY29tL2pxdWVyeS0xLjEyLjQubWluLmpzIj48L3NjcmlwdD4KICAgIDxzY3JpcHQgc3JjPSJodHRwczovL21heGNkbi5ib290c3RyYXBjZG4uY29tL2Jvb3RzdHJhcC8zLjIuMC9qcy9ib290c3RyYXAubWluLmpzIj48L3NjcmlwdD4KICAgIDxzY3JpcHQgc3JjPSJodHRwczovL2NkbmpzLmNsb3VkZmxhcmUuY29tL2FqYXgvbGlicy9MZWFmbGV0LmF3ZXNvbWUtbWFya2Vycy8yLjAuMi9sZWFmbGV0LmF3ZXNvbWUtbWFya2Vycy5qcyI+PC9zY3JpcHQ+CiAgICA8bGluayByZWw9InN0eWxlc2hlZXQiIGhyZWY9Imh0dHBzOi8vY2RuLmpzZGVsaXZyLm5ldC9ucG0vbGVhZmxldEAxLjYuMC9kaXN0L2xlYWZsZXQuY3NzIi8+CiAgICA8bGluayByZWw9InN0eWxlc2hlZXQiIGhyZWY9Imh0dHBzOi8vbWF4Y2RuLmJvb3RzdHJhcGNkbi5jb20vYm9vdHN0cmFwLzMuMi4wL2Nzcy9ib290c3RyYXAubWluLmNzcyIvPgogICAgPGxpbmsgcmVsPSJzdHlsZXNoZWV0IiBocmVmPSJodHRwczovL21heGNkbi5ib290c3RyYXBjZG4uY29tL2Jvb3RzdHJhcC8zLjIuMC9jc3MvYm9vdHN0cmFwLXRoZW1lLm1pbi5jc3MiLz4KICAgIDxsaW5rIHJlbD0ic3R5bGVzaGVldCIgaHJlZj0iaHR0cHM6Ly9tYXhjZG4uYm9vdHN0cmFwY2RuLmNvbS9mb250LWF3ZXNvbWUvNC42LjMvY3NzL2ZvbnQtYXdlc29tZS5taW4uY3NzIi8+CiAgICA8bGluayByZWw9InN0eWxlc2hlZXQiIGhyZWY9Imh0dHBzOi8vY2RuanMuY2xvdWRmbGFyZS5jb20vYWpheC9saWJzL0xlYWZsZXQuYXdlc29tZS1tYXJrZXJzLzIuMC4yL2xlYWZsZXQuYXdlc29tZS1tYXJrZXJzLmNzcyIvPgogICAgPGxpbmsgcmVsPSJzdHlsZXNoZWV0IiBocmVmPSJodHRwczovL3Jhd2Nkbi5naXRoYWNrLmNvbS9weXRob24tdmlzdWFsaXphdGlvbi9mb2xpdW0vbWFzdGVyL2ZvbGl1bS90ZW1wbGF0ZXMvbGVhZmxldC5hd2Vzb21lLnJvdGF0ZS5jc3MiLz4KICAgIDxzdHlsZT5odG1sLCBib2R5IHt3aWR0aDogMTAwJTtoZWlnaHQ6IDEwMCU7bWFyZ2luOiAwO3BhZGRpbmc6IDA7fTwvc3R5bGU+CiAgICA8c3R5bGU+I21hcCB7cG9zaXRpb246YWJzb2x1dGU7dG9wOjA7Ym90dG9tOjA7cmlnaHQ6MDtsZWZ0OjA7fTwvc3R5bGU+CiAgICAKICAgICAgICAgICAgPG1ldGEgbmFtZT0idmlld3BvcnQiIGNvbnRlbnQ9IndpZHRoPWRldmljZS13aWR0aCwKICAgICAgICAgICAgICAgIGluaXRpYWwtc2NhbGU9MS4wLCBtYXhpbXVtLXNjYWxlPTEuMCwgdXNlci1zY2FsYWJsZT1ubyIgLz4KICAgICAgICAgICAgPHN0eWxlPgogICAgICAgICAgICAgICAgI21hcF9mNGIxNGNkNGIwMDc0ZDRiYjUxOWU4NzE1M2IzZTgzZCB7CiAgICAgICAgICAgICAgICAgICAgcG9zaXRpb246IHJlbGF0aXZlOwogICAgICAgICAgICAgICAgICAgIHdpZHRoOiAxMDAuMCU7CiAgICAgICAgICAgICAgICAgICAgaGVpZ2h0OiAxMDAuMCU7CiAgICAgICAgICAgICAgICAgICAgbGVmdDogMC4wJTsKICAgICAgICAgICAgICAgICAgICB0b3A6IDAuMCU7CiAgICAgICAgICAgICAgICB9CiAgICAgICAgICAgIDwvc3R5bGU+CiAgICAgICAgCjwvaGVhZD4KPGJvZHk+ICAgIAogICAgCiAgICAgICAgICAgIDxkaXYgY2xhc3M9ImZvbGl1bS1tYXAiIGlkPSJtYXBfZjRiMTRjZDRiMDA3NGQ0YmI1MTllODcxNTNiM2U4M2QiID48L2Rpdj4KICAgICAgICAKPC9ib2R5Pgo8c2NyaXB0PiAgICAKICAgIAogICAgICAgICAgICB2YXIgbWFwX2Y0YjE0Y2Q0YjAwNzRkNGJiNTE5ZTg3MTUzYjNlODNkID0gTC5tYXAoCiAgICAgICAgICAgICAgICAibWFwX2Y0YjE0Y2Q0YjAwNzRkNGJiNTE5ZTg3MTUzYjNlODNkIiwKICAgICAgICAgICAgICAgIHsKICAgICAgICAgICAgICAgICAgICBjZW50ZXI6IFs0OS44MDM4LCAxNS40NzQ5XSwKICAgICAgICAgICAgICAgICAgICBjcnM6IEwuQ1JTLkVQU0czODU3LAogICAgICAgICAgICAgICAgICAgIHpvb206IDgsCiAgICAgICAgICAgICAgICAgICAgem9vbUNvbnRyb2w6IHRydWUsCiAgICAgICAgICAgICAgICAgICAgcHJlZmVyQ2FudmFzOiBmYWxzZSwKICAgICAgICAgICAgICAgIH0KICAgICAgICAgICAgKTsKCiAgICAgICAgICAgIAoKICAgICAgICAKICAgIAogICAgICAgICAgICB2YXIgdGlsZV9sYXllcl9iZjllY2I4NTI3ZDg0ODY5ODA3OWY0NmMwNWUyMmYwZSA9IEwudGlsZUxheWVyKAogICAgICAgICAgICAgICAgImh0dHBzOi8vY2FydG9kYi1iYXNlbWFwcy17c30uZ2xvYmFsLnNzbC5mYXN0bHkubmV0L2xpZ2h0X2FsbC97en0ve3h9L3t5fS5wbmciLAogICAgICAgICAgICAgICAgeyJhdHRyaWJ1dGlvbiI6ICJcdTAwMjZjb3B5OyBcdTAwM2NhIGhyZWY9XCJodHRwOi8vd3d3Lm9wZW5zdHJlZXRtYXAub3JnL2NvcHlyaWdodFwiXHUwMDNlT3BlblN0cmVldE1hcFx1MDAzYy9hXHUwMDNlIGNvbnRyaWJ1dG9ycyBcdTAwMjZjb3B5OyBcdTAwM2NhIGhyZWY9XCJodHRwOi8vY2FydG9kYi5jb20vYXR0cmlidXRpb25zXCJcdTAwM2VDYXJ0b0RCXHUwMDNjL2FcdTAwM2UsIENhcnRvREIgXHUwMDNjYSBocmVmID1cImh0dHA6Ly9jYXJ0b2RiLmNvbS9hdHRyaWJ1dGlvbnNcIlx1MDAzZWF0dHJpYnV0aW9uc1x1MDAzYy9hXHUwMDNlIiwgImRldGVjdFJldGluYSI6IGZhbHNlLCAibWF4TmF0aXZlWm9vbSI6IDE4LCAibWF4Wm9vbSI6IDE4LCAibWluWm9vbSI6IDAsICJub1dyYXAiOiBmYWxzZSwgIm9wYWNpdHkiOiAxLCAic3ViZG9tYWlucyI6ICJhYmMiLCAidG1zIjogZmFsc2V9CiAgICAgICAgICAgICkuYWRkVG8obWFwX2Y0YjE0Y2Q0YjAwNzRkNGJiNTE5ZTg3MTUzYjNlODNkKTsKICAgICAgICAKICAgIAogICAgICAgICAgICB2YXIgY2lyY2xlX21hcmtlcl8xMWZhZjkxMjRlZTk0ZDQ5YmM5ZjQwYmNjNDBiM2U4MCA9IEwuY2lyY2xlTWFya2VyKAogICAgICAgICAgICAgICAgWzIuOTgzNzc1NDAwMDAwMDAwMywgNDEuNzYwMzE5OF0sCiAgICAgICAgICAgICAgICB7ImJ1YmJsaW5nTW91c2VFdmVudHMiOiB0cnVlLCAiY29sb3IiOiAiYiIsICJkYXNoQXJyYXkiOiBudWxsLCAiZGFzaE9mZnNldCI6IG51bGwsICJmaWxsIjogdHJ1ZSwgImZpbGxDb2xvciI6ICJncmV5IiwgImZpbGxPcGFjaXR5IjogMC41LCAiZmlsbFJ1bGUiOiAiZXZlbm9kZCIsICJsaW5lQ2FwIjogInJvdW5kIiwgImxpbmVKb2luIjogInJvdW5kIiwgIm9wYWNpdHkiOiAxLjAsICJyYWRpdXMiOiAxMCwgInN0cm9rZSI6IHRydWUsICJ3ZWlnaHQiOiAzfQogICAgICAgICAgICApLmFkZFRvKG1hcF9mNGIxNGNkNGIwMDc0ZDRiYjUxOWU4NzE1M2IzZTgzZCk7CiAgICAgICAgCiAgICAKICAgICAgICB2YXIgcG9wdXBfNmIwNmVkMjg2NGQwNDYwY2IyYWQ1ODhjZDUzZWNiNjYgPSBMLnBvcHVwKHsibWF4V2lkdGgiOiAiMTAwJSJ9KTsKCiAgICAgICAgCiAgICAgICAgICAgIHZhciBodG1sXzJmYWQxYzUxMTljYTQzYzI4MWM1NDJkZDRmMGFlYWI4ID0gJChgPGRpdiBpZD0iaHRtbF8yZmFkMWM1MTE5Y2E0M2MyODFjNTQyZGQ0ZjBhZWFiOCIgc3R5bGU9IndpZHRoOiAxMDAuMCU7IGhlaWdodDogMTAwLjAlOyI+TmFtZTogQ29zdGEgYnJhdmE8YnI+QXZlcmFnZSByYXRpbmc6IHg8L2Rpdj5gKVswXTsKICAgICAgICAgICAgcG9wdXBfNmIwNmVkMjg2NGQwNDYwY2IyYWQ1ODhjZDUzZWNiNjYuc2V0Q29udGVudChodG1sXzJmYWQxYzUxMTljYTQzYzI4MWM1NDJkZDRmMGFlYWI4KTsKICAgICAgICAKCiAgICAgICAgY2lyY2xlX21hcmtlcl8xMWZhZjkxMjRlZTk0ZDQ5YmM5ZjQwYmNjNDBiM2U4MC5iaW5kUG9wdXAocG9wdXBfNmIwNmVkMjg2NGQwNDYwY2IyYWQ1ODhjZDUzZWNiNjYpCiAgICAgICAgOwoKICAgICAgICAKICAgIAogICAgCiAgICAgICAgICAgIHZhciBjaXJjbGVfbWFya2VyXzQ5NzJjNjg1MTU4YTRlYzdiZmIxZmQ3MjFlMDU1ZWEyID0gTC5jaXJjbGVNYXJrZXIoCiAgICAgICAgICAgICAgICBbMTcuMzA3ODQyLCA0OS43NTExODIxXSwKICAgICAgICAgICAgICAgIHsiYnViYmxpbmdNb3VzZUV2ZW50cyI6IHRydWUsICJjb2xvciI6ICJiIiwgImRhc2hBcnJheSI6IG51bGwsICJkYXNoT2Zmc2V0IjogbnVsbCwgImZpbGwiOiB0cnVlLCAiZmlsbENvbG9yIjogInJlZCIsICJmaWxsT3BhY2l0eSI6IDAuNSwgImZpbGxSdWxlIjogImV2ZW5vZGQiLCAibGluZUNhcCI6ICJyb3VuZCIsICJsaW5lSm9pbiI6ICJyb3VuZCIsICJvcGFjaXR5IjogMS4wLCAicmFkaXVzIjogMTAsICJzdHJva2UiOiB0cnVlLCAid2VpZ2h0IjogM30KICAgICAgICAgICAgKS5hZGRUbyhtYXBfZjRiMTRjZDRiMDA3NGQ0YmI1MTllODcxNTNiM2U4M2QpOwogICAgICAgIAogICAgCiAgICAgICAgdmFyIHBvcHVwXzk1Zjc0Y2M2NTcwMDQ5YzhiYjQwM2M1YWJjZDlmYmYyID0gTC5wb3B1cCh7Im1heFdpZHRoIjogIjEwMCUifSk7CgogICAgICAgIAogICAgICAgICAgICB2YXIgaHRtbF9hY2FmOTY3YzA4NDc0MWM2OTk2MjczNGM5NGM3MmJlZCA9ICQoYDxkaXYgaWQ9Imh0bWxfYWNhZjk2N2MwODQ3NDFjNjk5NjI3MzRjOTRjNzJiZWQiIHN0eWxlPSJ3aWR0aDogMTAwLjAlOyBoZWlnaHQ6IDEwMC4wJTsiPk5hbWU6IE5hZHLFviBkb2xuw60gxb5sZWI8YnI+QXZlcmFnZSByYXRpbmc6IDIuMDwvZGl2PmApWzBdOwogICAgICAgICAgICBwb3B1cF85NWY3NGNjNjU3MDA0OWM4YmI0MDNjNWFiY2Q5ZmJmMi5zZXRDb250ZW50KGh0bWxfYWNhZjk2N2MwODQ3NDFjNjk5NjI3MzRjOTRjNzJiZWQpOwogICAgICAgIAoKICAgICAgICBjaXJjbGVfbWFya2VyXzQ5NzJjNjg1MTU4YTRlYzdiZmIxZmQ3MjFlMDU1ZWEyLmJpbmRQb3B1cChwb3B1cF85NWY3NGNjNjU3MDA0OWM4YmI0MDNjNWFiY2Q5ZmJmMikKICAgICAgICA7CgogICAgICAgIAogICAgCiAgICAKICAgICAgICAgICAgdmFyIGNpcmNsZV9tYXJrZXJfOTRkOGZlZDY3MzM1NGMxNGFlNzI3YjUzZjU3YTM3MjYgPSBMLmNpcmNsZU1hcmtlcigKICAgICAgICAgICAgICAgIFsxNC4zMDcxNTI4MDAwMDAwMDMsIDUwLjI1NjE2MTRdLAogICAgICAgICAgICAgICAgeyJidWJibGluZ01vdXNlRXZlbnRzIjogdHJ1ZSwgImNvbG9yIjogImIiLCAiZGFzaEFycmF5IjogbnVsbCwgImRhc2hPZmZzZXQiOiBudWxsLCAiZmlsbCI6IHRydWUsICJmaWxsQ29sb3IiOiAic2VhZ3JlZW4iLCAiZmlsbE9wYWNpdHkiOiAwLjUsICJmaWxsUnVsZSI6ICJldmVub2RkIiwgImxpbmVDYXAiOiAicm91bmQiLCAibGluZUpvaW4iOiAicm91bmQiLCAib3BhY2l0eSI6IDEuMCwgInJhZGl1cyI6IDEwLCAic3Ryb2tlIjogdHJ1ZSwgIndlaWdodCI6IDN9CiAgICAgICAgICAgICkuYWRkVG8obWFwX2Y0YjE0Y2Q0YjAwNzRkNGJiNTE5ZTg3MTUzYjNlODNkKTsKICAgICAgICAKICAgIAogICAgICAgIHZhciBwb3B1cF8wYzdiYWUxMmQwMDY0NGM4YTMzMmFmNWUyZWE2YjE5NyA9IEwucG9wdXAoeyJtYXhXaWR0aCI6ICIxMDAlIn0pOwoKICAgICAgICAKICAgICAgICAgICAgdmFyIGh0bWxfMWE0MjQ2MDYzNWQ3NDZlMGJlMzAwOGViNjE5YTkxZDAgPSAkKGA8ZGl2IGlkPSJodG1sXzFhNDI0NjA2MzVkNzQ2ZTBiZTMwMDhlYjYxOWE5MWQwIiBzdHlsZT0id2lkdGg6IDEwMC4wJTsgaGVpZ2h0OiAxMDAuMCU7Ij5OYW1lOiBLcmFsdXB5IG5hZCB2bHRhdm91PGJyPkF2ZXJhZ2UgcmF0aW5nOiA1LjA8L2Rpdj5gKVswXTsKICAgICAgICAgICAgcG9wdXBfMGM3YmFlMTJkMDA2NDRjOGEzMzJhZjVlMmVhNmIxOTcuc2V0Q29udGVudChodG1sXzFhNDI0NjA2MzVkNzQ2ZTBiZTMwMDhlYjYxOWE5MWQwKTsKICAgICAgICAKCiAgICAgICAgY2lyY2xlX21hcmtlcl85NGQ4ZmVkNjczMzU0YzE0YWU3MjdiNTNmNTdhMzcyNi5iaW5kUG9wdXAocG9wdXBfMGM3YmFlMTJkMDA2NDRjOGEzMzJhZjVlMmVhNmIxOTcpCiAgICAgICAgOwoKICAgICAgICAKICAgIAogICAgCiAgICAgICAgICAgIHZhciBjaXJjbGVfbWFya2VyXzMzYWU2ODFlMTY2YjRjMjJhNzAxMTY2NjI3MWY3ZTRiID0gTC5jaXJjbGVNYXJrZXIoCiAgICAgICAgICAgICAgICBbMTUuODQxOTc3MiwgNTAuMjA1MTUzOV0sCiAgICAgICAgICAgICAgICB7ImJ1YmJsaW5nTW91c2VFdmVudHMiOiB0cnVlLCAiY29sb3IiOiAiYiIsICJkYXNoQXJyYXkiOiBudWxsLCAiZGFzaE9mZnNldCI6IG51bGwsICJmaWxsIjogdHJ1ZSwgImZpbGxDb2xvciI6ICJzZWFncmVlbiIsICJmaWxsT3BhY2l0eSI6IDAuNSwgImZpbGxSdWxlIjogImV2ZW5vZGQiLCAibGluZUNhcCI6ICJyb3VuZCIsICJsaW5lSm9pbiI6ICJyb3VuZCIsICJvcGFjaXR5IjogMS4wLCAicmFkaXVzIjogMTAsICJzdHJva2UiOiB0cnVlLCAid2VpZ2h0IjogM30KICAgICAgICAgICAgKS5hZGRUbyhtYXBfZjRiMTRjZDRiMDA3NGQ0YmI1MTllODcxNTNiM2U4M2QpOwogICAgICAgIAogICAgCiAgICAgICAgdmFyIHBvcHVwXzFjYjRmNmU4ZGUwZjRjOGZhOWFkNzhiMDZjMzA1MjcyID0gTC5wb3B1cCh7Im1heFdpZHRoIjogIjEwMCUifSk7CgogICAgICAgIAogICAgICAgICAgICB2YXIgaHRtbF9mNDFjOWZjYWZiODA0MWNkYTE2NzQwZGM4NzNkMDJmMCA9ICQoYDxkaXYgaWQ9Imh0bWxfZjQxYzlmY2FmYjgwNDFjZGExNjc0MGRjODczZDAyZjAiIHN0eWxlPSJ3aWR0aDogMTAwLjAlOyBoZWlnaHQ6IDEwMC4wJTsiPk5hbWU6IEtvdXBhbGnFoXTEmyBmbG/FoW5hPGJyPkF2ZXJhZ2UgcmF0aW5nOiA1LjA8L2Rpdj5gKVswXTsKICAgICAgICAgICAgcG9wdXBfMWNiNGY2ZThkZTBmNGM4ZmE5YWQ3OGIwNmMzMDUyNzIuc2V0Q29udGVudChodG1sX2Y0MWM5ZmNhZmI4MDQxY2RhMTY3NDBkYzg3M2QwMmYwKTsKICAgICAgICAKCiAgICAgICAgY2lyY2xlX21hcmtlcl8zM2FlNjgxZTE2NmI0YzIyYTcwMTE2NjYyNzFmN2U0Yi5iaW5kUG9wdXAocG9wdXBfMWNiNGY2ZThkZTBmNGM4ZmE5YWQ3OGIwNmMzMDUyNzIpCiAgICAgICAgOwoKICAgICAgICAKICAgIAogICAgCiAgICAgICAgICAgIHZhciBjaXJjbGVfbWFya2VyX2Y5NWVmOTA3ZmRkYTQ0ZWU4MDBjOTAzMWMyOTMzYTcyID0gTC5jaXJjbGVNYXJrZXIoCiAgICAgICAgICAgICAgICBbMTUuODI4NzU5MywgNTAuMjE0MjE3NF0sCiAgICAgICAgICAgICAgICB7ImJ1YmJsaW5nTW91c2VFdmVudHMiOiB0cnVlLCAiY29sb3IiOiAiYiIsICJkYXNoQXJyYXkiOiBudWxsLCAiZGFzaE9mZnNldCI6IG51bGwsICJmaWxsIjogdHJ1ZSwgImZpbGxDb2xvciI6ICJzcHJpbmdncmVlbiIsICJmaWxsT3BhY2l0eSI6IDAuNSwgImZpbGxSdWxlIjogImV2ZW5vZGQiLCAibGluZUNhcCI6ICJyb3VuZCIsICJsaW5lSm9pbiI6ICJyb3VuZCIsICJvcGFjaXR5IjogMS4wLCAicmFkaXVzIjogMTAsICJzdHJva2UiOiB0cnVlLCAid2VpZ2h0IjogM30KICAgICAgICAgICAgKS5hZGRUbyhtYXBfZjRiMTRjZDRiMDA3NGQ0YmI1MTllODcxNTNiM2U4M2QpOwogICAgICAgIAogICAgCiAgICAgICAgdmFyIHBvcHVwX2Y2MDE0NWNlM2ZmZDQ1MDNiYTI0NTliM2FjNjE2ZjBkID0gTC5wb3B1cCh7Im1heFdpZHRoIjogIjEwMCUifSk7CgogICAgICAgIAogICAgICAgICAgICB2YXIgaHRtbF9hN2M2NDVmMzRkNzA0MTlkOWQ4M2FmMDEyNThiYzkzYSA9ICQoYDxkaXYgaWQ9Imh0bWxfYTdjNjQ1ZjM0ZDcwNDE5ZDlkODNhZjAxMjU4YmM5M2EiIHN0eWxlPSJ3aWR0aDogMTAwLjAlOyBoZWlnaHQ6IDEwMC4wJTsiPk5hbWU6IE3Em3N0c2tlIGxhem7Emzxicj5BdmVyYWdlIHJhdGluZzogNC4wPC9kaXY+YClbMF07CiAgICAgICAgICAgIHBvcHVwX2Y2MDE0NWNlM2ZmZDQ1MDNiYTI0NTliM2FjNjE2ZjBkLnNldENvbnRlbnQoaHRtbF9hN2M2NDVmMzRkNzA0MTlkOWQ4M2FmMDEyNThiYzkzYSk7CiAgICAgICAgCgogICAgICAgIGNpcmNsZV9tYXJrZXJfZjk1ZWY5MDdmZGRhNDRlZTgwMGM5MDMxYzI5MzNhNzIuYmluZFBvcHVwKHBvcHVwX2Y2MDE0NWNlM2ZmZDQ1MDNiYTI0NTliM2FjNjE2ZjBkKQogICAgICAgIDsKCiAgICAgICAgCiAgICAKICAgIAogICAgICAgICAgICB2YXIgY2lyY2xlX21hcmtlcl9hMGI0ZWFkNjYxMDI0ZTY3YTZjNTU2NjRkNTBjZjAzMCA9IEwuY2lyY2xlTWFya2VyKAogICAgICAgICAgICAgICAgWzE1LjgzMDU2MTcsIDUwLjIxNDI3MjNdLAogICAgICAgICAgICAgICAgeyJidWJibGluZ01vdXNlRXZlbnRzIjogdHJ1ZSwgImNvbG9yIjogImIiLCAiZGFzaEFycmF5IjogbnVsbCwgImRhc2hPZmZzZXQiOiBudWxsLCAiZmlsbCI6IHRydWUsICJmaWxsQ29sb3IiOiAic2VhZ3JlZW4iLCAiZmlsbE9wYWNpdHkiOiAwLjUsICJmaWxsUnVsZSI6ICJldmVub2RkIiwgImxpbmVDYXAiOiAicm91bmQiLCAibGluZUpvaW4iOiAicm91bmQiLCAib3BhY2l0eSI6IDEuMCwgInJhZGl1cyI6IDEwLCAic3Ryb2tlIjogdHJ1ZSwgIndlaWdodCI6IDN9CiAgICAgICAgICAgICkuYWRkVG8obWFwX2Y0YjE0Y2Q0YjAwNzRkNGJiNTE5ZTg3MTUzYjNlODNkKTsKICAgICAgICAKICAgIAogICAgICAgIHZhciBwb3B1cF9mNjhkZGMyNWUyMmY0ZTViYjZiMjczMmZlMWYwZDJhZCA9IEwucG9wdXAoeyJtYXhXaWR0aCI6ICIxMDAlIn0pOwoKICAgICAgICAKICAgICAgICAgICAgdmFyIGh0bWxfZjg2MWIxM2QxOGVhNGM1M2EyNzQwNTZiMTNhNzQ1OGIgPSAkKGA8ZGl2IGlkPSJodG1sX2Y4NjFiMTNkMThlYTRjNTNhMjc0MDU2YjEzYTc0NThiIiBzdHlsZT0id2lkdGg6IDEwMC4wJTsgaGVpZ2h0OiAxMDAuMCU7Ij5OYW1lOiBQbGF2ZWNrw70gYmF6ZW48YnI+QXZlcmFnZSByYXRpbmc6IDUuMDwvZGl2PmApWzBdOwogICAgICAgICAgICBwb3B1cF9mNjhkZGMyNWUyMmY0ZTViYjZiMjczMmZlMWYwZDJhZC5zZXRDb250ZW50KGh0bWxfZjg2MWIxM2QxOGVhNGM1M2EyNzQwNTZiMTNhNzQ1OGIpOwogICAgICAgIAoKICAgICAgICBjaXJjbGVfbWFya2VyX2EwYjRlYWQ2NjEwMjRlNjdhNmM1NTY2NGQ1MGNmMDMwLmJpbmRQb3B1cChwb3B1cF9mNjhkZGMyNWUyMmY0ZTViYjZiMjczMmZlMWYwZDJhZCkKICAgICAgICA7CgogICAgICAgIAogICAgCiAgICAKICAgICAgICAgICAgdmFyIGNpcmNsZV9tYXJrZXJfYWU3MjRkMDkwMjRlNGRiZThjMDVkZTdkMzJjMjhkZDMgPSBMLmNpcmNsZU1hcmtlcigKICAgICAgICAgICAgICAgIFsxNC4zMTg2ODA3LCA1MC4wOTkwNTk5XSwKICAgICAgICAgICAgICAgIHsiYnViYmxpbmdNb3VzZUV2ZW50cyI6IHRydWUsICJjb2xvciI6ICJiIiwgImRhc2hBcnJheSI6IG51bGwsICJkYXNoT2Zmc2V0IjogbnVsbCwgImZpbGwiOiB0cnVlLCAiZmlsbENvbG9yIjogInNwcmluZ2dyZWVuIiwgImZpbGxPcGFjaXR5IjogMC41LCAiZmlsbFJ1bGUiOiAiZXZlbm9kZCIsICJsaW5lQ2FwIjogInJvdW5kIiwgImxpbmVKb2luIjogInJvdW5kIiwgIm9wYWNpdHkiOiAxLjAsICJyYWRpdXMiOiAxMCwgInN0cm9rZSI6IHRydWUsICJ3ZWlnaHQiOiAzfQogICAgICAgICAgICApLmFkZFRvKG1hcF9mNGIxNGNkNGIwMDc0ZDRiYjUxOWU4NzE1M2IzZTgzZCk7CiAgICAgICAgCiAgICAKICAgICAgICB2YXIgcG9wdXBfOTcxZjc5N2U0MTRhNGUyZTliMDYyN2ZhZWI2YjA1ODQgPSBMLnBvcHVwKHsibWF4V2lkdGgiOiAiMTAwJSJ9KTsKCiAgICAgICAgCiAgICAgICAgICAgIHZhciBodG1sXzkxZDQ1MTM0NDg5NDQxYWRhMTNmOTcxYTJmZjZhNWFjID0gJChgPGRpdiBpZD0iaHRtbF85MWQ0NTEzNDQ4OTQ0MWFkYTEzZjk3MWEyZmY2YTVhYyIgc3R5bGU9IndpZHRoOiAxMDAuMCU7IGhlaWdodDogMTAwLjAlOyI+TmFtZTogS291cGFsacWhdMSbIGRpdm9rYSDFoWFya2E8YnI+QXZlcmFnZSByYXRpbmc6IDQuMDwvZGl2PmApWzBdOwogICAgICAgICAgICBwb3B1cF85NzFmNzk3ZTQxNGE0ZTJlOWIwNjI3ZmFlYjZiMDU4NC5zZXRDb250ZW50KGh0bWxfOTFkNDUxMzQ0ODk0NDFhZGExM2Y5NzFhMmZmNmE1YWMpOwogICAgICAgIAoKICAgICAgICBjaXJjbGVfbWFya2VyX2FlNzI0ZDA5MDI0ZTRkYmU4YzA1ZGU3ZDMyYzI4ZGQzLmJpbmRQb3B1cChwb3B1cF85NzFmNzk3ZTQxNGE0ZTJlOWIwNjI3ZmFlYjZiMDU4NCkKICAgICAgICA7CgogICAgICAgIAogICAgCiAgICAKICAgICAgICAgICAgdmFyIGNpcmNsZV9tYXJrZXJfYWM0NjBiY2JiN2Y1NDU4M2FiYzY0NWUxNWY1Y2RhMzkgPSBMLmNpcmNsZU1hcmtlcigKICAgICAgICAgICAgICAgIFsxNC4zNjc4MTg4LCA1MC4wMjY2NDY0XSwKICAgICAgICAgICAgICAgIHsiYnViYmxpbmdNb3VzZUV2ZW50cyI6IHRydWUsICJjb2xvciI6ICJiIiwgImRhc2hBcnJheSI6IG51bGwsICJkYXNoT2Zmc2V0IjogbnVsbCwgImZpbGwiOiB0cnVlLCAiZmlsbENvbG9yIjogIm9yYW5nZSIsICJmaWxsT3BhY2l0eSI6IDAuNSwgImZpbGxSdWxlIjogImV2ZW5vZGQiLCAibGluZUNhcCI6ICJyb3VuZCIsICJsaW5lSm9pbiI6ICJyb3VuZCIsICJvcGFjaXR5IjogMS4wLCAicmFkaXVzIjogMTAsICJzdHJva2UiOiB0cnVlLCAid2VpZ2h0IjogM30KICAgICAgICAgICAgKS5hZGRUbyhtYXBfZjRiMTRjZDRiMDA3NGQ0YmI1MTllODcxNTNiM2U4M2QpOwogICAgICAgIAogICAgCiAgICAgICAgdmFyIHBvcHVwXzY0Njg3NGI4MTU0NTQwY2U4MTk1YzFjMTRmYTVkZTQ0ID0gTC5wb3B1cCh7Im1heFdpZHRoIjogIjEwMCUifSk7CgogICAgICAgIAogICAgICAgICAgICB2YXIgaHRtbF84ZjgzNmMyZWZkNGQ0NTY4YWE4NzM2ZDdkN2Q3MTUwOCA9ICQoYDxkaXYgaWQ9Imh0bWxfOGY4MzZjMmVmZDRkNDU2OGFhODczNmQ3ZDdkNzE1MDgiIHN0eWxlPSJ3aWR0aDogMTAwLjAlOyBoZWlnaHQ6IDEwMC4wJTsiPk5hbWU6IEFxdWFkcmVhbTxicj5BdmVyYWdlIHJhdGluZzogMy4wPC9kaXY+YClbMF07CiAgICAgICAgICAgIHBvcHVwXzY0Njg3NGI4MTU0NTQwY2U4MTk1YzFjMTRmYTVkZTQ0LnNldENvbnRlbnQoaHRtbF84ZjgzNmMyZWZkNGQ0NTY4YWE4NzM2ZDdkN2Q3MTUwOCk7CiAgICAgICAgCgogICAgICAgIGNpcmNsZV9tYXJrZXJfYWM0NjBiY2JiN2Y1NDU4M2FiYzY0NWUxNWY1Y2RhMzkuYmluZFBvcHVwKHBvcHVwXzY0Njg3NGI4MTU0NTQwY2U4MTk1YzFjMTRmYTVkZTQ0KQogICAgICAgIDsKCiAgICAgICAgCiAgICAKICAgIAogICAgICAgICAgICB2YXIgY2lyY2xlX21hcmtlcl9kNjExNjE0NjcxM2U0MjYzYjkxNDYxY2VkNDI4YmExMSA9IEwuY2lyY2xlTWFya2VyKAogICAgICAgICAgICAgICAgWzE0LjUwNDg0NzUsIDUwLjEzNDM1MjI5OTk5OTk5Nl0sCiAgICAgICAgICAgICAgICB7ImJ1YmJsaW5nTW91c2VFdmVudHMiOiB0cnVlLCAiY29sb3IiOiAiYiIsICJkYXNoQXJyYXkiOiBudWxsLCAiZGFzaE9mZnNldCI6IG51bGwsICJmaWxsIjogdHJ1ZSwgImZpbGxDb2xvciI6ICJzcHJpbmdncmVlbiIsICJmaWxsT3BhY2l0eSI6IDAuNSwgImZpbGxSdWxlIjogImV2ZW5vZGQiLCAibGluZUNhcCI6ICJyb3VuZCIsICJsaW5lSm9pbiI6ICJyb3VuZCIsICJvcGFjaXR5IjogMS4wLCAicmFkaXVzIjogMTAsICJzdHJva2UiOiB0cnVlLCAid2VpZ2h0IjogM30KICAgICAgICAgICAgKS5hZGRUbyhtYXBfZjRiMTRjZDRiMDA3NGQ0YmI1MTllODcxNTNiM2U4M2QpOwogICAgICAgIAogICAgCiAgICAgICAgdmFyIHBvcHVwXzBkNjU0ZGNkNzRhODQzODdiOWJlNjI3OTI4OGZiMzdiID0gTC5wb3B1cCh7Im1heFdpZHRoIjogIjEwMCUifSk7CgogICAgICAgIAogICAgICAgICAgICB2YXIgaHRtbF8yOTI3MGZiZjU1ZDk0YmJiYTY2N2IzZDQzZTBiYmI5NiA9ICQoYDxkaXYgaWQ9Imh0bWxfMjkyNzBmYmY1NWQ5NGJiYmE2NjdiM2Q0M2UwYmJiOTYiIHN0eWxlPSJ3aWR0aDogMTAwLjAlOyBoZWlnaHQ6IDEwMC4wJTsiPk5hbWU6IExldMWIYW55IGxhZ29vbjxicj5BdmVyYWdlIHJhdGluZzogNC4wPC9kaXY+YClbMF07CiAgICAgICAgICAgIHBvcHVwXzBkNjU0ZGNkNzRhODQzODdiOWJlNjI3OTI4OGZiMzdiLnNldENvbnRlbnQoaHRtbF8yOTI3MGZiZjU1ZDk0YmJiYTY2N2IzZDQzZTBiYmI5Nik7CiAgICAgICAgCgogICAgICAgIGNpcmNsZV9tYXJrZXJfZDYxMTYxNDY3MTNlNDI2M2I5MTQ2MWNlZDQyOGJhMTEuYmluZFBvcHVwKHBvcHVwXzBkNjU0ZGNkNzRhODQzODdiOWJlNjI3OTI4OGZiMzdiKQogICAgICAgIDsKCiAgICAgICAgCiAgICAKICAgIAogICAgICAgICAgICB2YXIgY2lyY2xlX21hcmtlcl9mZjY4YzU3MTgzMzQ0OWZkOGI1ZDBkYTE4MTlkZTI2YyA9IEwuY2lyY2xlTWFya2VyKAogICAgICAgICAgICAgICAgWzE0LjM2MTAyNDU5OTk5OTk5OSwgNDguODkyMTE0OF0sCiAgICAgICAgICAgICAgICB7ImJ1YmJsaW5nTW91c2VFdmVudHMiOiB0cnVlLCAiY29sb3IiOiAiYiIsICJkYXNoQXJyYXkiOiBudWxsLCAiZGFzaE9mZnNldCI6IG51bGwsICJmaWxsIjogdHJ1ZSwgImZpbGxDb2xvciI6ICJzcHJpbmdncmVlbiIsICJmaWxsT3BhY2l0eSI6IDAuNSwgImZpbGxSdWxlIjogImV2ZW5vZGQiLCAibGluZUNhcCI6ICJyb3VuZCIsICJsaW5lSm9pbiI6ICJyb3VuZCIsICJvcGFjaXR5IjogMS4wLCAicmFkaXVzIjogMTAsICJzdHJva2UiOiB0cnVlLCAid2VpZ2h0IjogM30KICAgICAgICAgICAgKS5hZGRUbyhtYXBfZjRiMTRjZDRiMDA3NGQ0YmI1MTllODcxNTNiM2U4M2QpOwogICAgICAgIAogICAgCiAgICAgICAgdmFyIHBvcHVwXzcyNTBhZjE2YTIwOTQ4MWViMjU0ZTE1MTE0NmFlYjAyID0gTC5wb3B1cCh7Im1heFdpZHRoIjogIjEwMCUifSk7CgogICAgICAgIAogICAgICAgICAgICB2YXIgaHRtbF8wZjI0YzM3NTZlNDk0ODgzOTk0NTcwZGEzM2VkNDcyMyA9ICQoYDxkaXYgaWQ9Imh0bWxfMGYyNGMzNzU2ZTQ5NDg4Mzk5NDU3MGRhMzNlZDQ3MjMiIHN0eWxlPSJ3aWR0aDogMTAwLjAlOyBoZWlnaHQ6IDEwMC4wJTsiPk5hbWU6IEtlbXAgZMOtdsSNw60ga2FtZW48YnI+QXZlcmFnZSByYXRpbmc6IDQuMDwvZGl2PmApWzBdOwogICAgICAgICAgICBwb3B1cF83MjUwYWYxNmEyMDk0ODFlYjI1NGUxNTExNDZhZWIwMi5zZXRDb250ZW50KGh0bWxfMGYyNGMzNzU2ZTQ5NDg4Mzk5NDU3MGRhMzNlZDQ3MjMpOwogICAgICAgIAoKICAgICAgICBjaXJjbGVfbWFya2VyX2ZmNjhjNTcxODMzNDQ5ZmQ4YjVkMGRhMTgxOWRlMjZjLmJpbmRQb3B1cChwb3B1cF83MjUwYWYxNmEyMDk0ODFlYjI1NGUxNTExNDZhZWIwMikKICAgICAgICA7CgogICAgICAgIAogICAgCiAgICAKICAgICAgICAgICAgdmFyIGNpcmNsZV9tYXJrZXJfYzlkNjFhMjJkODhmNDcyNWE5YzE5NzQ4OGIyNGU1YjMgPSBMLmNpcmNsZU1hcmtlcigKICAgICAgICAgICAgICAgIFsxNC4wNzc5NDIwMDAwMDAwMDIsIDQ5LjEyMTU0ODEwMDAwMDAwNV0sCiAgICAgICAgICAgICAgICB7ImJ1YmJsaW5nTW91c2VFdmVudHMiOiB0cnVlLCAiY29sb3IiOiAiYiIsICJkYXNoQXJyYXkiOiBudWxsLCAiZGFzaE9mZnNldCI6IG51bGwsICJmaWxsIjogdHJ1ZSwgImZpbGxDb2xvciI6ICJncmV5IiwgImZpbGxPcGFjaXR5IjogMC41LCAiZmlsbFJ1bGUiOiAiZXZlbm9kZCIsICJsaW5lQ2FwIjogInJvdW5kIiwgImxpbmVKb2luIjogInJvdW5kIiwgIm9wYWNpdHkiOiAxLjAsICJyYWRpdXMiOiAxMCwgInN0cm9rZSI6IHRydWUsICJ3ZWlnaHQiOiAzfQogICAgICAgICAgICApLmFkZFRvKG1hcF9mNGIxNGNkNGIwMDc0ZDRiYjUxOWU4NzE1M2IzZTgzZCk7CiAgICAgICAgCiAgICAKICAgICAgICB2YXIgcG9wdXBfZmUyMmE1MTViNzE4NDU4NjljZTZjMjA1NWNkYTMxMTYgPSBMLnBvcHVwKHsibWF4V2lkdGgiOiAiMTAwJSJ9KTsKCiAgICAgICAgCiAgICAgICAgICAgIHZhciBodG1sX2Q1NDUwODgyOTNiNzQ2NzNiOTFkMTgyNjNiMjIzOGI0ID0gJChgPGRpdiBpZD0iaHRtbF9kNTQ1MDg4MjkzYjc0NjczYjkxZDE4MjYzYjIyMzhiNCIgc3R5bGU9IndpZHRoOiAxMDAuMCU7IGhlaWdodDogMTAwLjAlOyI+TmFtZTogS291cGFsacWhdMSbIGJhdm9yb3Y8YnI+QXZlcmFnZSByYXRpbmc6IHg8L2Rpdj5gKVswXTsKICAgICAgICAgICAgcG9wdXBfZmUyMmE1MTViNzE4NDU4NjljZTZjMjA1NWNkYTMxMTYuc2V0Q29udGVudChodG1sX2Q1NDUwODgyOTNiNzQ2NzNiOTFkMTgyNjNiMjIzOGI0KTsKICAgICAgICAKCiAgICAgICAgY2lyY2xlX21hcmtlcl9jOWQ2MWEyMmQ4OGY0NzI1YTljMTk3NDg4YjI0ZTViMy5iaW5kUG9wdXAocG9wdXBfZmUyMmE1MTViNzE4NDU4NjljZTZjMjA1NWNkYTMxMTYpCiAgICAgICAgOwoKICAgICAgICAKICAgIAogICAgCiAgICAgICAgICAgIHZhciBjaXJjbGVfbWFya2VyX2M0NjhjY2I2MGMzZjQzZTY5ODkxMGY2ODc0ZTg0ZDExID0gTC5jaXJjbGVNYXJrZXIoCiAgICAgICAgICAgICAgICBbMTMuNTk5OTUwOSwgNTAuMjc5ODc1OF0sCiAgICAgICAgICAgICAgICB7ImJ1YmJsaW5nTW91c2VFdmVudHMiOiB0cnVlLCAiY29sb3IiOiAiYiIsICJkYXNoQXJyYXkiOiBudWxsLCAiZGFzaE9mZnNldCI6IG51bGwsICJmaWxsIjogdHJ1ZSwgImZpbGxDb2xvciI6ICJzcHJpbmdncmVlbiIsICJmaWxsT3BhY2l0eSI6IDAuNSwgImZpbGxSdWxlIjogImV2ZW5vZGQiLCAibGluZUNhcCI6ICJyb3VuZCIsICJsaW5lSm9pbiI6ICJyb3VuZCIsICJvcGFjaXR5IjogMS4wLCAicmFkaXVzIjogMTAsICJzdHJva2UiOiB0cnVlLCAid2VpZ2h0IjogM30KICAgICAgICAgICAgKS5hZGRUbyhtYXBfZjRiMTRjZDRiMDA3NGQ0YmI1MTllODcxNTNiM2U4M2QpOwogICAgICAgIAogICAgCiAgICAgICAgdmFyIHBvcHVwXzUyODVhMTliYzc0ZjRmZmNhYzJlMDRmZDE2YWFiZTZkID0gTC5wb3B1cCh7Im1heFdpZHRoIjogIjEwMCUifSk7CgogICAgICAgIAogICAgICAgICAgICB2YXIgaHRtbF82ZTE0OWM4Mzk0ZjA0ZjFlOTc1MTQzNzJjYTU1ZjExZSA9ICQoYDxkaXYgaWQ9Imh0bWxfNmUxNDljODM5NGYwNGYxZTk3NTE0MzcyY2E1NWYxMWUiIHN0eWxlPSJ3aWR0aDogMTAwLjAlOyBoZWlnaHQ6IDEwMC4wJTsiPk5hbWU6IEtsdcSNZWs8YnI+QXZlcmFnZSByYXRpbmc6IDQuMDwvZGl2PmApWzBdOwogICAgICAgICAgICBwb3B1cF81Mjg1YTE5YmM3NGY0ZmZjYWMyZTA0ZmQxNmFhYmU2ZC5zZXRDb250ZW50KGh0bWxfNmUxNDljODM5NGYwNGYxZTk3NTE0MzcyY2E1NWYxMWUpOwogICAgICAgIAoKICAgICAgICBjaXJjbGVfbWFya2VyX2M0NjhjY2I2MGMzZjQzZTY5ODkxMGY2ODc0ZTg0ZDExLmJpbmRQb3B1cChwb3B1cF81Mjg1YTE5YmM3NGY0ZmZjYWMyZTA0ZmQxNmFhYmU2ZCkKICAgICAgICA7CgogICAgICAgIAogICAgCiAgICAKICAgICAgICAgICAgdmFyIGNpcmNsZV9tYXJrZXJfYjA3OTgxMmVkZjJiNGZiMzkyYzM3NzY0MGM1ZjIwNDIgPSBMLmNpcmNsZU1hcmtlcigKICAgICAgICAgICAgICAgIFsxOS40NDU2MDc4LCA0OS4xMDAxNjU5OTk5OTk5OTRdLAogICAgICAgICAgICAgICAgeyJidWJibGluZ01vdXNlRXZlbnRzIjogdHJ1ZSwgImNvbG9yIjogImIiLCAiZGFzaEFycmF5IjogbnVsbCwgImRhc2hPZmZzZXQiOiBudWxsLCAiZmlsbCI6IHRydWUsICJmaWxsQ29sb3IiOiAic3ByaW5nZ3JlZW4iLCAiZmlsbE9wYWNpdHkiOiAwLjUsICJmaWxsUnVsZSI6ICJldmVub2RkIiwgImxpbmVDYXAiOiAicm91bmQiLCAibGluZUpvaW4iOiAicm91bmQiLCAib3BhY2l0eSI6IDEuMCwgInJhZGl1cyI6IDEwLCAic3Ryb2tlIjogdHJ1ZSwgIndlaWdodCI6IDN9CiAgICAgICAgICAgICkuYWRkVG8obWFwX2Y0YjE0Y2Q0YjAwNzRkNGJiNTE5ZTg3MTUzYjNlODNkKTsKICAgICAgICAKICAgIAogICAgICAgIHZhciBwb3B1cF8zY2IzODNiYjIzNmI0NjNjYTgxNjg2YTNkODc4MGJmMCA9IEwucG9wdXAoeyJtYXhXaWR0aCI6ICIxMDAlIn0pOwoKICAgICAgICAKICAgICAgICAgICAgdmFyIGh0bWxfZjVhMjA5ZjhhNjY2NGViMGI4Y2IxMGE1YTkwZWYzYzYgPSAkKGA8ZGl2IGlkPSJodG1sX2Y1YTIwOWY4YTY2NjRlYjBiOGNiMTBhNWE5MGVmM2M2IiBzdHlsZT0id2lkdGg6IDEwMC4wJTsgaGVpZ2h0OiAxMDAuMCU7Ij5OYW1lOiBUZXJtYWxuw60ga291cGFsacWhdMSbIGJlxaFlxYhvdmE8YnI+QXZlcmFnZSByYXRpbmc6IDQuMDwvZGl2PmApWzBdOwogICAgICAgICAgICBwb3B1cF8zY2IzODNiYjIzNmI0NjNjYTgxNjg2YTNkODc4MGJmMC5zZXRDb250ZW50KGh0bWxfZjVhMjA5ZjhhNjY2NGViMGI4Y2IxMGE1YTkwZWYzYzYpOwogICAgICAgIAoKICAgICAgICBjaXJjbGVfbWFya2VyX2IwNzk4MTJlZGYyYjRmYjM5MmMzNzc2NDBjNWYyMDQyLmJpbmRQb3B1cChwb3B1cF8zY2IzODNiYjIzNmI0NjNjYTgxNjg2YTNkODc4MGJmMCkKICAgICAgICA7CgogICAgICAgIAogICAgCiAgICAKICAgICAgICAgICAgdmFyIGNpcmNsZV9tYXJrZXJfYTk2YTZjZTNiYjQ1NDI1NDkxNTRjMTlmMmNjNTA0ZmMgPSBMLmNpcmNsZU1hcmtlcigKICAgICAgICAgICAgICAgIFsxNS43ODI3ODgsIDUwLjAzMzg3ODddLAogICAgICAgICAgICAgICAgeyJidWJibGluZ01vdXNlRXZlbnRzIjogdHJ1ZSwgImNvbG9yIjogImIiLCAiZGFzaEFycmF5IjogbnVsbCwgImRhc2hPZmZzZXQiOiBudWxsLCAiZmlsbCI6IHRydWUsICJmaWxsQ29sb3IiOiAic2VhZ3JlZW4iLCAiZmlsbE9wYWNpdHkiOiAwLjUsICJmaWxsUnVsZSI6ICJldmVub2RkIiwgImxpbmVDYXAiOiAicm91bmQiLCAibGluZUpvaW4iOiAicm91bmQiLCAib3BhY2l0eSI6IDEuMCwgInJhZGl1cyI6IDEwLCAic3Ryb2tlIjogdHJ1ZSwgIndlaWdodCI6IDN9CiAgICAgICAgICAgICkuYWRkVG8obWFwX2Y0YjE0Y2Q0YjAwNzRkNGJiNTE5ZTg3MTUzYjNlODNkKTsKICAgICAgICAKICAgIAogICAgICAgIHZhciBwb3B1cF9lYzUxNWYzNDllODk0ZjFjYTQ5Y2JjYzA1Y2RlMDM4NSA9IEwucG9wdXAoeyJtYXhXaWR0aCI6ICIxMDAlIn0pOwoKICAgICAgICAKICAgICAgICAgICAgdmFyIGh0bWxfYzJiMTRmNTM0YjFjNDZhYjgyMDI1YTY1NjQ2NWViZmYgPSAkKGA8ZGl2IGlkPSJodG1sX2MyYjE0ZjUzNGIxYzQ2YWI4MjAyNWE2NTY0NjVlYmZmIiBzdHlsZT0id2lkdGg6IDEwMC4wJTsgaGVpZ2h0OiAxMDAuMCU7Ij5OYW1lOiBTbHVuZcSNbsOtIHBsYcW+PGJyPkF2ZXJhZ2UgcmF0aW5nOiA1LjA8L2Rpdj5gKVswXTsKICAgICAgICAgICAgcG9wdXBfZWM1MTVmMzQ5ZTg5NGYxY2E0OWNiY2MwNWNkZTAzODUuc2V0Q29udGVudChodG1sX2MyYjE0ZjUzNGIxYzQ2YWI4MjAyNWE2NTY0NjVlYmZmKTsKICAgICAgICAKCiAgICAgICAgY2lyY2xlX21hcmtlcl9hOTZhNmNlM2JiNDU0MjU0OTE1NGMxOWYyY2M1MDRmYy5iaW5kUG9wdXAocG9wdXBfZWM1MTVmMzQ5ZTg5NGYxY2E0OWNiY2MwNWNkZTAzODUpCiAgICAgICAgOwoKICAgICAgICAKICAgIAogICAgCiAgICAgICAgICAgIHZhciBjaXJjbGVfbWFya2VyXzZhYWYyYTIwNzMxZTRkOTE5NWQ5YjcyOTY1ZGM0Y2QwID0gTC5jaXJjbGVNYXJrZXIoCiAgICAgICAgICAgICAgICBbMTQuMzcyMzA2LCA1MC4wODcxMTUwMDAwMDAwMDRdLAogICAgICAgICAgICAgICAgeyJidWJibGluZ01vdXNlRXZlbnRzIjogdHJ1ZSwgImNvbG9yIjogImIiLCAiZGFzaEFycmF5IjogbnVsbCwgImRhc2hPZmZzZXQiOiBudWxsLCAiZmlsbCI6IHRydWUsICJmaWxsQ29sb3IiOiAic3ByaW5nZ3JlZW4iLCAiZmlsbE9wYWNpdHkiOiAwLjUsICJmaWxsUnVsZSI6ICJldmVub2RkIiwgImxpbmVDYXAiOiAicm91bmQiLCAibGluZUpvaW4iOiAicm91bmQiLCAib3BhY2l0eSI6IDEuMCwgInJhZGl1cyI6IDEwLCAic3Ryb2tlIjogdHJ1ZSwgIndlaWdodCI6IDN9CiAgICAgICAgICAgICkuYWRkVG8obWFwX2Y0YjE0Y2Q0YjAwNzRkNGJiNTE5ZTg3MTUzYjNlODNkKTsKICAgICAgICAKICAgIAogICAgICAgIHZhciBwb3B1cF81N2U0NmRhNjVhMWE0YTVmYWNhMmU0YzMyNmRhYjQxYiA9IEwucG9wdXAoeyJtYXhXaWR0aCI6ICIxMDAlIn0pOwoKICAgICAgICAKICAgICAgICAgICAgdmFyIGh0bWxfNGFlYTVkMWI1NmFjNGNmZDhhYWQ4NzIzZGQxOGNiZDIgPSAkKGA8ZGl2IGlkPSJodG1sXzRhZWE1ZDFiNTZhYzRjZmQ4YWFkODcyM2RkMThjYmQyIiBzdHlsZT0id2lkdGg6IDEwMC4wJTsgaGVpZ2h0OiAxMDAuMCU7Ij5OYW1lOiBLb3VwYWxpxaF0xJsgcGV0eW5rYTxicj5BdmVyYWdlIHJhdGluZzogNC4wPC9kaXY+YClbMF07CiAgICAgICAgICAgIHBvcHVwXzU3ZTQ2ZGE2NWExYTRhNWZhY2EyZTRjMzI2ZGFiNDFiLnNldENvbnRlbnQoaHRtbF80YWVhNWQxYjU2YWM0Y2ZkOGFhZDg3MjNkZDE4Y2JkMik7CiAgICAgICAgCgogICAgICAgIGNpcmNsZV9tYXJrZXJfNmFhZjJhMjA3MzFlNGQ5MTk1ZDliNzI5NjVkYzRjZDAuYmluZFBvcHVwKHBvcHVwXzU3ZTQ2ZGE2NWExYTRhNWZhY2EyZTRjMzI2ZGFiNDFiKQogICAgICAgIDsKCiAgICAgICAgCiAgICAKICAgIAogICAgICAgICAgICB2YXIgY2lyY2xlX21hcmtlcl8xZjNkZjA0NDBlNWQ0MGVkOTQ2YzhlM2IyNjliNTA2MCA9IEwuY2lyY2xlTWFya2VyKAogICAgICAgICAgICAgICAgWzE0LjE0NTM0ODYsIDQ5LjMwNTczODUwMDAwMDAwNF0sCiAgICAgICAgICAgICAgICB7ImJ1YmJsaW5nTW91c2VFdmVudHMiOiB0cnVlLCAiY29sb3IiOiAiYiIsICJkYXNoQXJyYXkiOiBudWxsLCAiZGFzaE9mZnNldCI6IG51bGwsICJmaWxsIjogdHJ1ZSwgImZpbGxDb2xvciI6ICJvcmFuZ2UiLCAiZmlsbE9wYWNpdHkiOiAwLjUsICJmaWxsUnVsZSI6ICJldmVub2RkIiwgImxpbmVDYXAiOiAicm91bmQiLCAibGluZUpvaW4iOiAicm91bmQiLCAib3BhY2l0eSI6IDEuMCwgInJhZGl1cyI6IDEwLCAic3Ryb2tlIjogdHJ1ZSwgIndlaWdodCI6IDN9CiAgICAgICAgICAgICkuYWRkVG8obWFwX2Y0YjE0Y2Q0YjAwNzRkNGJiNTE5ZTg3MTUzYjNlODNkKTsKICAgICAgICAKICAgIAogICAgICAgIHZhciBwb3B1cF8zY2VjYWYwNzU4NTE0ODJkYWVmZTJlYjRjMDRiY2NiNiA9IEwucG9wdXAoeyJtYXhXaWR0aCI6ICIxMDAlIn0pOwoKICAgICAgICAKICAgICAgICAgICAgdmFyIGh0bWxfNTExYjlhYmUyOTQ1NDViZWIwNDE2ODYwOTY0YzM1ZDQgPSAkKGA8ZGl2IGlkPSJodG1sXzUxMWI5YWJlMjk0NTQ1YmViMDQxNjg2MDk2NGMzNWQ0IiBzdHlsZT0id2lkdGg6IDEwMC4wJTsgaGVpZ2h0OiAxMDAuMCU7Ij5OYW1lOiBQw61zZWNrYSBwbG92YXJuYTxicj5BdmVyYWdlIHJhdGluZzogMy4wPC9kaXY+YClbMF07CiAgICAgICAgICAgIHBvcHVwXzNjZWNhZjA3NTg1MTQ4MmRhZWZlMmViNGMwNGJjY2I2LnNldENvbnRlbnQoaHRtbF81MTFiOWFiZTI5NDU0NWJlYjA0MTY4NjA5NjRjMzVkNCk7CiAgICAgICAgCgogICAgICAgIGNpcmNsZV9tYXJrZXJfMWYzZGYwNDQwZTVkNDBlZDk0NmM4ZTNiMjY5YjUwNjAuYmluZFBvcHVwKHBvcHVwXzNjZWNhZjA3NTg1MTQ4MmRhZWZlMmViNGMwNGJjY2I2KQogICAgICAgIDsKCiAgICAgICAgCiAgICAKICAgIAogICAgICAgICAgICB2YXIgY2lyY2xlX21hcmtlcl9mYmRhMWJhNGM4YWQ0NjAwODRiMzM0NTllYzZmZDNhMSA9IEwuY2lyY2xlTWFya2VyKAogICAgICAgICAgICAgICAgWzE0Ljc2ODM0ODQ5OTk5OTk5OCwgNDQuOTIyMzIwNTAwMDAwMDA1XSwKICAgICAgICAgICAgICAgIHsiYnViYmxpbmdNb3VzZUV2ZW50cyI6IHRydWUsICJjb2xvciI6ICJiIiwgImRhc2hBcnJheSI6IG51bGwsICJkYXNoT2Zmc2V0IjogbnVsbCwgImZpbGwiOiB0cnVlLCAiZmlsbENvbG9yIjogInNlYWdyZWVuIiwgImZpbGxPcGFjaXR5IjogMC41LCAiZmlsbFJ1bGUiOiAiZXZlbm9kZCIsICJsaW5lQ2FwIjogInJvdW5kIiwgImxpbmVKb2luIjogInJvdW5kIiwgIm9wYWNpdHkiOiAxLjAsICJyYWRpdXMiOiAxMCwgInN0cm9rZSI6IHRydWUsICJ3ZWlnaHQiOiAzfQogICAgICAgICAgICApLmFkZFRvKG1hcF9mNGIxNGNkNGIwMDc0ZDRiYjUxOWU4NzE1M2IzZTgzZCk7CiAgICAgICAgCiAgICAKICAgICAgICB2YXIgcG9wdXBfNTkwOTE2OGQ3MDYxNGMzYjk1ZDg2ZTFlZjdiMjNjMjIgPSBMLnBvcHVwKHsibWF4V2lkdGgiOiAiMTAwJSJ9KTsKCiAgICAgICAgCiAgICAgICAgICAgIHZhciBodG1sXzlkMjVjMjRlMTA3MjQxMWU5ZDM3NWJhMTdkMzhkOGJkID0gJChgPGRpdiBpZD0iaHRtbF85ZDI1YzI0ZTEwNzI0MTFlOWQzNzViYTE3ZDM4ZDhiZCIgc3R5bGU9IndpZHRoOiAxMDAuMCU7IGhlaWdodDogMTAwLjAlOyI+TmFtZTogUm9tYW50aWNrYSBwbGHFvjxicj5BdmVyYWdlIHJhdGluZzogNS4wPC9kaXY+YClbMF07CiAgICAgICAgICAgIHBvcHVwXzU5MDkxNjhkNzA2MTRjM2I5NWQ4NmUxZWY3YjIzYzIyLnNldENvbnRlbnQoaHRtbF85ZDI1YzI0ZTEwNzI0MTFlOWQzNzViYTE3ZDM4ZDhiZCk7CiAgICAgICAgCgogICAgICAgIGNpcmNsZV9tYXJrZXJfZmJkYTFiYTRjOGFkNDYwMDg0YjMzNDU5ZWM2ZmQzYTEuYmluZFBvcHVwKHBvcHVwXzU5MDkxNjhkNzA2MTRjM2I5NWQ4NmUxZWY3YjIzYzIyKQogICAgICAgIDsKCiAgICAgICAgCiAgICAKICAgIAogICAgICAgICAgICB2YXIgY2lyY2xlX21hcmtlcl9kN2ZlN2UyM2RkMDM0NzY2YjEwOGViOTQ0MDI5Y2NkZCA9IEwuY2lyY2xlTWFya2VyKAogICAgICAgICAgICAgICAgWzE0Ljk0Mjc3MiwgNDguOTYwMTU1NjAwMDAwMDFdLAogICAgICAgICAgICAgICAgeyJidWJibGluZ01vdXNlRXZlbnRzIjogdHJ1ZSwgImNvbG9yIjogImIiLCAiZGFzaEFycmF5IjogbnVsbCwgImRhc2hPZmZzZXQiOiBudWxsLCAiZmlsbCI6IHRydWUsICJmaWxsQ29sb3IiOiAic3ByaW5nZ3JlZW4iLCAiZmlsbE9wYWNpdHkiOiAwLjUsICJmaWxsUnVsZSI6ICJldmVub2RkIiwgImxpbmVDYXAiOiAicm91bmQiLCAibGluZUpvaW4iOiAicm91bmQiLCAib3BhY2l0eSI6IDEuMCwgInJhZGl1cyI6IDEwLCAic3Ryb2tlIjogdHJ1ZSwgIndlaWdodCI6IDN9CiAgICAgICAgICAgICkuYWRkVG8obWFwX2Y0YjE0Y2Q0YjAwNzRkNGJiNTE5ZTg3MTUzYjNlODNkKTsKICAgICAgICAKICAgIAogICAgICAgIHZhciBwb3B1cF82MTEyNzdmMjRkZWY0Mzc4YmMwYzg4MDAyNTYyZDZmYyA9IEwucG9wdXAoeyJtYXhXaWR0aCI6ICIxMDAlIn0pOwoKICAgICAgICAKICAgICAgICAgICAgdmFyIGh0bWxfMTZlNTRiYzhiYzQ2NDY2MjhhOGE3YWUxZmIyYTdiZGYgPSAkKGA8ZGl2IGlkPSJodG1sXzE2ZTU0YmM4YmM0NjQ2NjI4YThhN2FlMWZiMmE3YmRmIiBzdHlsZT0id2lkdGg6IDEwMC4wJTsgaGVpZ2h0OiAxMDAuMCU7Ij5OYW1lOiBIZWp0bWFuPGJyPkF2ZXJhZ2UgcmF0aW5nOiA0LjA8L2Rpdj5gKVswXTsKICAgICAgICAgICAgcG9wdXBfNjExMjc3ZjI0ZGVmNDM3OGJjMGM4ODAwMjU2MmQ2ZmMuc2V0Q29udGVudChodG1sXzE2ZTU0YmM4YmM0NjQ2NjI4YThhN2FlMWZiMmE3YmRmKTsKICAgICAgICAKCiAgICAgICAgY2lyY2xlX21hcmtlcl9kN2ZlN2UyM2RkMDM0NzY2YjEwOGViOTQ0MDI5Y2NkZC5iaW5kUG9wdXAocG9wdXBfNjExMjc3ZjI0ZGVmNDM3OGJjMGM4ODAwMjU2MmQ2ZmMpCiAgICAgICAgOwoKICAgICAgICAKICAgIAogICAgCiAgICAgICAgICAgIHZhciBjaXJjbGVfbWFya2VyXzAzMjdhYTZhNDViYTQyODM4Mzk1ODI4ZTNmZDgyZmEzID0gTC5jaXJjbGVNYXJrZXIoCiAgICAgICAgICAgICAgICBbMTQuODc5OTg2ODAwMDAwMDAxLCA0OC45NDQ1NzFdLAogICAgICAgICAgICAgICAgeyJidWJibGluZ01vdXNlRXZlbnRzIjogdHJ1ZSwgImNvbG9yIjogImIiLCAiZGFzaEFycmF5IjogbnVsbCwgImRhc2hPZmZzZXQiOiBudWxsLCAiZmlsbCI6IHRydWUsICJmaWxsQ29sb3IiOiAic2VhZ3JlZW4iLCAiZmlsbE9wYWNpdHkiOiAwLjUsICJmaWxsUnVsZSI6ICJldmVub2RkIiwgImxpbmVDYXAiOiAicm91bmQiLCAibGluZUpvaW4iOiAicm91bmQiLCAib3BhY2l0eSI6IDEuMCwgInJhZGl1cyI6IDEwLCAic3Ryb2tlIjogdHJ1ZSwgIndlaWdodCI6IDN9CiAgICAgICAgICAgICkuYWRkVG8obWFwX2Y0YjE0Y2Q0YjAwNzRkNGJiNTE5ZTg3MTUzYjNlODNkKTsKICAgICAgICAKICAgIAogICAgICAgIHZhciBwb3B1cF83MWRmY2JjYTkzMzI0MTcyOThlN2E1ZWUzODNkYWI0OCA9IEwucG9wdXAoeyJtYXhXaWR0aCI6ICIxMDAlIn0pOwoKICAgICAgICAKICAgICAgICAgICAgdmFyIGh0bWxfNWUzODYyMDI4YjAzNDcyYmEzN2MwMjY0YmRmNDlmN2UgPSAkKGA8ZGl2IGlkPSJodG1sXzVlMzg2MjAyOGIwMzQ3MmJhMzdjMDI2NGJkZjQ5ZjdlIiBzdHlsZT0id2lkdGg6IDEwMC4wJTsgaGVpZ2h0OiAxMDAuMCU7Ij5OYW1lOiBNYWpkYWxlbnNrYSBww61za292bmE8YnI+QXZlcmFnZSByYXRpbmc6IDUuMDwvZGl2PmApWzBdOwogICAgICAgICAgICBwb3B1cF83MWRmY2JjYTkzMzI0MTcyOThlN2E1ZWUzODNkYWI0OC5zZXRDb250ZW50KGh0bWxfNWUzODYyMDI4YjAzNDcyYmEzN2MwMjY0YmRmNDlmN2UpOwogICAgICAgIAoKICAgICAgICBjaXJjbGVfbWFya2VyXzAzMjdhYTZhNDViYTQyODM4Mzk1ODI4ZTNmZDgyZmEzLmJpbmRQb3B1cChwb3B1cF83MWRmY2JjYTkzMzI0MTcyOThlN2E1ZWUzODNkYWI0OCkKICAgICAgICA7CgogICAgICAgIAogICAgCiAgICAKICAgICAgICAgICAgdmFyIGNpcmNsZV9tYXJrZXJfZWE1MDNlZTM1ZjM3NGJlNjg5ZDIyZDgxZjAxMDk4ZWIgPSBMLmNpcmNsZU1hcmtlcigKICAgICAgICAgICAgICAgIFsxNi40MDI3MTUsIDQ5Ljk3NTc0NzNdLAogICAgICAgICAgICAgICAgeyJidWJibGluZ01vdXNlRXZlbnRzIjogdHJ1ZSwgImNvbG9yIjogImIiLCAiZGFzaEFycmF5IjogbnVsbCwgImRhc2hPZmZzZXQiOiBudWxsLCAiZmlsbCI6IHRydWUsICJmaWxsQ29sb3IiOiAic3ByaW5nZ3JlZW4iLCAiZmlsbE9wYWNpdHkiOiAwLjUsICJmaWxsUnVsZSI6ICJldmVub2RkIiwgImxpbmVDYXAiOiAicm91bmQiLCAibGluZUpvaW4iOiAicm91bmQiLCAib3BhY2l0eSI6IDEuMCwgInJhZGl1cyI6IDEwLCAic3Ryb2tlIjogdHJ1ZSwgIndlaWdodCI6IDN9CiAgICAgICAgICAgICkuYWRkVG8obWFwX2Y0YjE0Y2Q0YjAwNzRkNGJiNTE5ZTg3MTUzYjNlODNkKTsKICAgICAgICAKICAgIAogICAgICAgIHZhciBwb3B1cF8zZjkzZjkzOTQ5YjQ0NjcyYTYxNzViZTFiYmMyOWQwNyA9IEwucG9wdXAoeyJtYXhXaWR0aCI6ICIxMDAlIn0pOwoKICAgICAgICAKICAgICAgICAgICAgdmFyIGh0bWxfMGI0ODg3Mjg0YjM1NDE5OGFjZGQyMTdkYjAwZTNmY2IgPSAkKGA8ZGl2IGlkPSJodG1sXzBiNDg4NzI4NGIzNTQxOThhY2RkMjE3ZGIwMGUzZmNiIiBzdHlsZT0id2lkdGg6IDEwMC4wJTsgaGVpZ2h0OiAxMDAuMCU7Ij5OYW1lOiBQbGF2ZWNrw70gYmF6ZW4gw7pzdMOtIG5hZCBvcmxpY8OtPGJyPkF2ZXJhZ2UgcmF0aW5nOiA0LjA8L2Rpdj5gKVswXTsKICAgICAgICAgICAgcG9wdXBfM2Y5M2Y5Mzk0OWI0NDY3MmE2MTc1YmUxYmJjMjlkMDcuc2V0Q29udGVudChodG1sXzBiNDg4NzI4NGIzNTQxOThhY2RkMjE3ZGIwMGUzZmNiKTsKICAgICAgICAKCiAgICAgICAgY2lyY2xlX21hcmtlcl9lYTUwM2VlMzVmMzc0YmU2ODlkMjJkODFmMDEwOThlYi5iaW5kUG9wdXAocG9wdXBfM2Y5M2Y5Mzk0OWI0NDY3MmE2MTc1YmUxYmJjMjlkMDcpCiAgICAgICAgOwoKICAgICAgICAKICAgIAo8L3NjcmlwdD4= onload=\"this.contentDocument.open();this.contentDocument.write(atob(this.getAttribute('data-html')));this.contentDocument.close();\" allowfullscreen webkitallowfullscreen mozallowfullscreen></iframe></div></div>"
      ],
      "text/plain": [
       "<folium.folium.Map at 0x117f2f350>"
      ]
     },
     "execution_count": 72,
     "metadata": {},
     "output_type": "execute_result"
    }
   ],
   "source": [
    "#We prepare data with needed columns.\n",
    "swim_rating = swim_locc[['Name','Latitude','Longitude', 'Average rating']]\n",
    "\n",
    "#We round column with average rating to whole numbers.\n",
    "av_rat = swim_rating[['Average rating']]\n",
    "swim_rating.loc[:, av_rat.columns] = np.round(av_rat)\n",
    "\n",
    "#We replace NaN values with \"x\".\n",
    "swim_rating.loc[np.isnan(swim_rating[\"Average rating\"]), 'Average rating'] = 'x'\n",
    "\n",
    "#We create map object using Folium. Based on our preferences, we set tiles to cartodbpositron and zoom_start to 8.\n",
    "#Initial coordinates of map are set to be the coordinates of Czech Republic.\n",
    "map_rating = folium.Map(\n",
    "    location=[49.8038, 15.4749],\n",
    "    tiles='cartodbpositron',\n",
    "    zoom_start=8\n",
    "    )\n",
    "\n",
    "#We create a dictionary for the colors of markers.\n",
    "colordict = {'x': 'grey',\n",
    "             5: 'seagreen', \n",
    "             4: 'springgreen', \n",
    "             3: 'orange',\n",
    "             2: 'red',\n",
    "             1: 'firebrick'\n",
    "            }\n",
    "\n",
    "#We set CircleMarker parameters and we add these markers to our map.\n",
    "for lat, lon, name, rating in zip(swim_rating['Latitude'], swim_rating['Longitude'], swim_rating['Name'], swim_rating['Average rating']):\n",
    "    folium.CircleMarker(\n",
    "        location = [lat, lon],\n",
    "        popup = ('Name: ' + str(name).capitalize() + '<br>' 'Average rating: ' + str(rating)),\n",
    "        color = 'b',\n",
    "        fill_color = colordict[rating],\n",
    "        fill = True,\n",
    "        fill_opacity = 0.5\n",
    "        ).add_to(map_rating)\n",
    "\n",
    "#We visualize new map.\n",
    "map_rating"
   ]
  },
  {
   "cell_type": "markdown",
   "metadata": {},
   "source": [
    "For another visualization, we use the table of geographically nearest places from previous part. In this map, we put user's coordinates as the initial coordinates. As there are only five locations displayed in the map (apart from user's location), we set zoom start of map to 10."
   ]
  },
  {
   "cell_type": "code",
   "execution_count": 73,
   "metadata": {},
   "outputs": [
    {
     "data": {
      "text/html": [
       "<div style=\"width:100%;\"><div style=\"position:relative;width:100%;height:0;padding-bottom:60%;\"><span style=\"color:#565656\">Make this Notebook Trusted to load map: File -> Trust Notebook</span><iframe src=\"about:blank\" style=\"position:absolute;width:100%;height:100%;left:0;top:0;border:none !important;\" data-html=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 onload=\"this.contentDocument.open();this.contentDocument.write(atob(this.getAttribute('data-html')));this.contentDocument.close();\" allowfullscreen webkitallowfullscreen mozallowfullscreen></iframe></div></div>"
      ],
      "text/plain": [
       "<folium.folium.Map at 0x121c876d0>"
      ]
     },
     "execution_count": 73,
     "metadata": {},
     "output_type": "execute_result"
    }
   ],
   "source": [
    "#We need to remove punctuation from 'Name' column since the map does not display those letters correctly.\n",
    "df_map['Name'] = df_map['Name'].str.replace('á','a').str.replace('í','i').str.replace('é','e').str.replace('ě','e').str.replace('š','s').str.replace('Š','S').str.replace('č','c').str.replace('Č','C').str.replace('ř','r').str.replace('Ř','R').str.replace('ž','z').str.replace('Ž','Z').str.replace('ý','y').str.replace('ů','u').str.replace('ú','u').str.replace('Ú','U').str.replace('ň','n')\n",
    "\n",
    "\n",
    "#We create map object using Folium. Based on our preferences, we set tiles to cartodbpositron and zoom_start to 10.\n",
    "map1 = folium.Map(\n",
    "    location=[location.latitude, location.longitude],\n",
    "    tiles='cartodbpositron',\n",
    "    zoom_start=10)\n",
    "\n",
    "#Then we create a list of latitude and longitude coordinate pairs.\n",
    "map_locations = df_map[['Latitude_2', 'Longitude_2']]\n",
    "locationlist = map_locations.values.tolist()\n",
    "\n",
    "#We set Marker parameters of places to swim and we add these markers to our map.\n",
    "for point in range(0, len(locationlist)):\n",
    "    folium.Marker(locationlist[point],                                  \n",
    "                  popup = df_map['Name'][point], \n",
    "                  icon=folium.Icon(color='darkblue', icon='tint')\n",
    "                 ).add_to(map1)\n",
    "\n",
    "#We set Marker parameters of user's location and we add this marker to our map.\n",
    "folium.Marker(\n",
    "    location =[location.latitude, location.longitude],\n",
    "    icon = folium.Icon(color = 'gray', icon = 'home')\n",
    "    ).add_to(map1)\n",
    "\n",
    "#We visualize new map.\n",
    "map1"
   ]
  },
  {
   "cell_type": "markdown",
   "metadata": {},
   "source": [
    "Another data visualization is useful for people looking for a place to swim and not willing to pay an entrance fee. Places without entrance fee are marked as green circles, while places with entrance fee of any value are marked as red circles."
   ]
  },
  {
   "cell_type": "code",
   "execution_count": 74,
   "metadata": {},
   "outputs": [
    {
     "data": {
      "text/html": [
       "<div style=\"width:100%;\"><div style=\"position:relative;width:100%;height:0;padding-bottom:60%;\"><span style=\"color:#565656\">Make this Notebook Trusted to load map: File -> Trust Notebook</span><iframe src=\"about:blank\" style=\"position:absolute;width:100%;height:100%;left:0;top:0;border:none !important;\" data-html=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 onload=\"this.contentDocument.open();this.contentDocument.write(atob(this.getAttribute('data-html')));this.contentDocument.close();\" allowfullscreen webkitallowfullscreen mozallowfullscreen></iframe></div></div>"
      ],
      "text/plain": [
       "<folium.folium.Map at 0x117f67f90>"
      ]
     },
     "execution_count": 74,
     "metadata": {},
     "output_type": "execute_result"
    }
   ],
   "source": [
    "#First, we prepare data with needed columns.\n",
    "swim_entr = swim_loc[['Name','Latitude','Longitude', 'Entrance']]\n",
    "\n",
    "#We create map object using Folium. Based on our preferences, we set tiles to cartodbpositron and zoom_start to 8.\n",
    "map_entr = folium.Map(\n",
    "    location=[49.8038, 15.4749],\n",
    "    tiles='cartodbpositron',\n",
    "    zoom_start=8\n",
    "    )\n",
    "\n",
    "#Then, we create a dictionary for the colors of markers.\n",
    "colordict = {'Entrance fee': 'red', \n",
    "             'No entrance fee': 'lightgreen'\n",
    "            }\n",
    "\n",
    "#We set CircleMarker parameters and we add these markers to our map.\n",
    "for lat, lon, name, entrance in zip(swim_entr['Latitude'], swim_entr['Longitude'], swim_entr['Name'], swim_entr['Entrance']):\n",
    "    folium.CircleMarker(\n",
    "        location = [lat, lon],\n",
    "        popup = ('Name: ' + str(name).capitalize() + '<br>' 'Entrance: ' + str(entrance)),\n",
    "        color = 'b',\n",
    "        fill_color = colordict[entrance],\n",
    "        fill = True,\n",
    "        fill_opacity = 0.8\n",
    "        ).add_to(map_entr)\n",
    "\n",
    "#Finally, we visualize new map.\n",
    "map_entr"
   ]
  },
  {
   "cell_type": "markdown",
   "metadata": {},
   "source": [
    "Since there are people who enjoy swimming and catching the sun without their clothes, we prepared a map representing locations to swim that are suitable for nudists. Places suitable for nudists are marked as pink circles and places not suitable for nudists are marked as dark red circles."
   ]
  },
  {
   "cell_type": "code",
   "execution_count": 75,
   "metadata": {},
   "outputs": [
    {
     "data": {
      "text/html": [
       "<div style=\"width:100%;\"><div style=\"position:relative;width:100%;height:0;padding-bottom:60%;\"><span style=\"color:#565656\">Make this Notebook Trusted to load map: File -> Trust Notebook</span><iframe src=\"about:blank\" style=\"position:absolute;width:100%;height:100%;left:0;top:0;border:none !important;\" data-html=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 onload=\"this.contentDocument.open();this.contentDocument.write(atob(this.getAttribute('data-html')));this.contentDocument.close();\" allowfullscreen webkitallowfullscreen mozallowfullscreen></iframe></div></div>"
      ],
      "text/plain": [
       "<folium.folium.Map at 0x117d2e910>"
      ]
     },
     "execution_count": 75,
     "metadata": {},
     "output_type": "execute_result"
    }
   ],
   "source": [
    "#We prepare data with needed columns.\n",
    "swim_nudist = swim_loc[['Name','Latitude','Longitude', 'Average rating', 'Nudist beach']]\n",
    "\n",
    "#We create map object. We set tiles to cartodbpositron and zoom_start to 8.\n",
    "map_nudist = folium.Map(\n",
    "    location=[49.8038, 15.4749],\n",
    "    tiles='cartodbpositron',\n",
    "    zoom_start=8\n",
    "    )\n",
    "\n",
    "#Then, we create a dictionary for the colors of markers.\n",
    "colordict = {'Suitable for nudists': 'pink', \n",
    "             'Not suitable for nudists': 'darkred'\n",
    "            }\n",
    "\n",
    "#We set CircleMarker parameters and we add these markers to our map.\n",
    "for lat, lon, name, nudist in zip(swim_nudist['Latitude'], swim_nudist['Longitude'], swim_nudist['Name'], swim_nudist['Nudist beach']):\n",
    "    folium.CircleMarker(\n",
    "        location = [lat, lon],\n",
    "        popup = ('Name: ' + str(name).capitalize() + '<br>' 'Nudist beach: ' + str(nudist)),\n",
    "        color = 'b',\n",
    "        fill_color = colordict[nudist],\n",
    "        fill = True,\n",
    "        fill_opacity = 0.8\n",
    "        ).add_to(map_nudist)\n",
    "\n",
    "#Finally, we visualize the map.\n",
    "map_nudist"
   ]
  }
 ],
 "metadata": {
  "kernelspec": {
   "display_name": "Python 3",
   "language": "python",
   "name": "python3"
  },
  "language_info": {
   "codemirror_mode": {
    "name": "ipython",
    "version": 3
   },
   "file_extension": ".py",
   "mimetype": "text/x-python",
   "name": "python",
   "nbconvert_exporter": "python",
   "pygments_lexer": "ipython3",
   "version": "3.7.4"
  }
 },
 "nbformat": 4,
 "nbformat_minor": 2
}
