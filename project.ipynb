{
 "cells": [
  {
   "cell_type": "markdown",
   "metadata": {},
   "source": [
    "### SWIMPLACES "
   ]
  },
  {
   "cell_type": "code",
   "execution_count": 251,
   "metadata": {},
   "outputs": [],
   "source": [
    "from bs4 import BeautifulSoup\n",
    "import requests\n",
    "import pandas as pd\n",
    "import json\n",
    "import unicodedata\n",
    "import numpy as np\n",
    "from tqdm import tqdm"
   ]
  },
  {
   "cell_type": "code",
   "execution_count": 252,
   "metadata": {},
   "outputs": [
    {
     "name": "stdout",
     "output_type": "stream",
     "text": [
      "<Response [200]>\n"
     ]
    }
   ],
   "source": [
    "#how to access another than the first page\n",
    "response = requests.get('https://www.mapotic.com/api/v1/maps/2941/public-pois/?page=1&page_size=10&ordering=created&page=4')\n",
    "print(response)\n",
    "#response.json()"
   ]
  },
  {
   "cell_type": "code",
   "execution_count": 253,
   "metadata": {},
   "outputs": [],
   "source": [
    "class Swim():\n",
    "    '''\n",
    "    This Class will be used to download all data and merge them into one DataFrame.\n",
    "    '''\n",
    "    def __init__(self):\n",
    "        self.pages_json = self.downloadPages()\n",
    "        self.get_data = self.getData()\n",
    "        pass\n",
    "    def downloadPages(self):\n",
    "        \"\"\"Download data from API and save to a json file.\"\"\"\n",
    "        \n",
    "        resp=[]\n",
    "        b= tqdm([1,2], desc=\"Downloading JSON data from API\")  # MAZU 2 STRANKY PRO RYCHLOST a mensim page_size z 1000 na 50!!\n",
    "        for i in b:\n",
    "            response = requests.get('https://www.mapotic.com/api/v1/maps/2941/public-pois/?page=1&page_size=20&ordering=created&page='+ str(i) )\n",
    "            resp.append(response.json())\n",
    "#         with open('raw_data.json', 'w') as raw:   # uložit do classy, ale aby se to pokaždé nestahovalo... plus podmínku, kdy se má stáhnout\n",
    "#             json.dump(resp, raw) \n",
    "        return resp\n",
    "            \n",
    "    def getData(self):\n",
    "        \"\"\"Extract available data from JSON\"\"\"\n",
    "        preview = self.pages_json\n",
    "#         with open('raw_data.json') as raw_data: \n",
    "#             preview = json.load(raw_data)\n",
    "        latitude = []    \n",
    "        longitude = []\n",
    "        ids = [] \n",
    "        names = [] \n",
    "#         types =[]\n",
    "        ratings = []\n",
    "        count_ratings = []\n",
    "        created = []\n",
    "        for page in preview: \n",
    "            for result in page['results']:\n",
    "                names.append(result['name'])\n",
    "                ids.append(result['id'])\n",
    "                latitude.append(result['point']['coordinates'][0])\n",
    "                longitude.append(result['point']['coordinates'][1])\n",
    "#                 types.append(result['category']['name']['en'][0])  #z nějakého důvodu nefunguje - NoneType error\n",
    "                ratings.append(result['rating']['average'])\n",
    "                count_ratings.append(result['rating']['count'])\n",
    "                created.append(result['created'])\n",
    "\n",
    "        df = pd.DataFrame({\n",
    "            'ID' : ids, \n",
    "            'Name' : names, \n",
    "#             'type' : types,\n",
    "            'Average rating' : ratings,\n",
    "            'Number of ratings' : count_ratings,\n",
    "            'Created' : created,\n",
    "            'Longitude' : longitude,\n",
    "            'Latitude' : latitude})\n",
    "#         return df \n",
    "        return df.loc[:30]  #zde ukáže momentálně pár záznamů, jen pro kontrolu\n",
    "    \n",
    "    def getDescPlaces(self, idn, name):\n",
    "        \"\"\"Function to get the source (only the part we are interested in) from each specific website. ID and name (without diacritics) have to be entered.\"\"\"\n",
    "        \n",
    "        name = unicodedata.normalize('NFKD', name).lower()\n",
    "        new_name = ''\n",
    "        for c in name:\n",
    "            if not unicodedata.combining(c):\n",
    "                new_name += c\n",
    "                \n",
    "        odkaz = 'https://www.swimplaces.com/'  + str(idn) + '-'+ new_name.replace(' ', '-') \n",
    "        r = requests.get(odkaz)\n",
    "        r.encoding = 'UTF-8'\n",
    "        soup = BeautifulSoup(r.text,'lxml').find('meta', {'name' : 'description'})['content'].split('|')\n",
    "        return soup\n",
    "    \n",
    "    def getAtt(self):\n",
    "        \"\"\"Download attributes for all the places.\"\"\"\n",
    "        value = None\n",
    "        def find_between(string, start, end):  #pomocná na hledání ve stringu\n",
    "            return (string.split(start))[1].split(end)[0]\n",
    "        \n",
    "        nazev =[]\n",
    "        att = []\n",
    "        for i, n in self.get_data.iterrows(): #self.getData().iterrows(): \n",
    "            nazev.append(self.getDescPlaces(n['ID'], n['Name'])[0])\n",
    "            try:\n",
    "                att.append(self.getDescPlaces(n['ID'], n['Name'])[1])  # tady už to někdy hodilo chybu, ze to nenašlo...\n",
    "            except:\n",
    "                att.append(value)\n",
    "        ids_att = self.get_data['ID'].values #self.getData()['ID'].values #přidat ID, pro pozdější join\n",
    "        \n",
    "        desc = []\n",
    "        refresh = []\n",
    "        diving = []\n",
    "        entrances = []\n",
    "        access = []\n",
    "        nudists = []\n",
    "        for ii in tqdm(att, desc = 'Searching through the description for attributes:'): # tady zkusim pridat taky tqdm\n",
    "            if 'Description:' in ii:\n",
    "                desc.append(find_between(ii, 'Description:', ':').rsplit(' ', 1)[0].rsplit(',', 1)[0].strip()) # najde atribut a vrátí jeho obsah - snad nikde jinde není dvojtečka :D\n",
    "            else:\n",
    "                desc.append(value)\n",
    "            if 'Refreshment' in ii:\n",
    "                refresh.append(find_between(ii, 'Refreshment:', ':').rsplit(' ', 1)[0].rsplit(',', 1)[0].strip())\n",
    "            else:\n",
    "                refresh.append(value) \n",
    "            if 'Diving' in ii:\n",
    "                diving.append(find_between(ii, 'Diving:', ':').rsplit(' ', 1)[0].rsplit(',', 1)[0].strip())\n",
    "            else:\n",
    "                diving.append(value)\n",
    "            if 'Accessibility/parking' in ii:\n",
    "                access.append(find_between(ii, 'Accessibility/parking:', ':').rsplit(' ', 1)[0].rsplit(',', 1)[0].strip()) \n",
    "            else:\n",
    "                access.append(value)                                                         \n",
    "            if 'Entrance' in ii:\n",
    "                entrances.append(find_between(ii, 'Entrance:', ':').rsplit(' ', 1)[0].rsplit(',', 1)[0].strip()) \n",
    "            else:\n",
    "                entrances.append(value)\n",
    "            if 'Nudist beach' in ii:\n",
    "                nudists.append(find_between(ii, 'Nudist beach:', ':').rsplit(' ', 1)[0].rsplit(',', 1)[0].strip())\n",
    "            else: \n",
    "                nudists.append(value)\n",
    "        attributes = pd.DataFrame({\n",
    "            'id_a' : ids_att,\n",
    "            'nazev' :nazev,\n",
    "            'Description' : desc,\n",
    "            'Refreshment' : refresh,\n",
    "            'Diving' : diving,\n",
    "            'Entrance' : entrances,\n",
    "            'Accessibility and parking' :access,\n",
    "            'Nudist beach' : nudists\n",
    "        })\n",
    "        return attributes\n",
    "    def mergeData(self):\n",
    "        ''' Merge those 2 data sets, cleaning will follow.'''\n",
    "        output = self.get_data.merge(self.getAtt(), left_on = 'ID', right_on = 'id_a')\n",
    "#         output = output['ids', 'names'] # , 'avg_rating', 'count_ratings', 'created', 'logitude', 'latitude', 'description', 'refreshment', 'diving', 'entrance', 'accessibility_parking', 'nudist_beach']\n",
    "        output.to_csv('raw_data.csv', sep = ',')\n",
    "        return print('Data prepared in csv file.')"
   ]
  },
  {
   "cell_type": "markdown",
   "metadata": {},
   "source": [
    "Nevim, proč se druhý tqdm neukazuje v prubehu - a jak dlouho trva celkove stazeni?\n",
    "- doresit\n",
    "- pridat poznamky"
   ]
  },
  {
   "cell_type": "markdown",
   "metadata": {},
   "source": [
    "----------"
   ]
  },
  {
   "cell_type": "markdown",
   "metadata": {},
   "source": [
    "In this Jupyter notebook, we interpret and visualize data collected in previous notebook."
   ]
  },
  {
   "cell_type": "markdown",
   "metadata": {},
   "source": [
    "### Import of packages"
   ]
  },
  {
   "cell_type": "markdown",
   "metadata": {},
   "source": [
    "In this section, we import all packages that are necessary for *data interpretation* as well as for their *visualization*. First, we import pandas, geopandas, json, numpy and matpotlib.pyplot in order to process the data. Then, we import Nominatim from geopy.geocoders in order to determine the location of the user. To perform geodetic computations, we import Geod from pyproj. Finally, we import folium and its plugin to visualize data."
   ]
  },
  {
   "cell_type": "code",
   "execution_count": 577,
   "metadata": {},
   "outputs": [],
   "source": [
    "import pandas as pd\n",
    "import geopandas as gpd\n",
    "import json\n",
    "import numpy as np\n",
    "import matplotlib.pyplot as plt\n",
    "\n",
    "from geopy.geocoders import Nominatim\n",
    "\n",
    "from pyproj import Geod\n",
    "\n",
    "#python -m pip install folium\n",
    "import folium\n",
    "from folium.plugins import MarkerCluster"
   ]
  },
  {
   "cell_type": "markdown",
   "metadata": {},
   "source": [
    "### Data loading & descriptive statistics"
   ]
  },
  {
   "cell_type": "markdown",
   "metadata": {},
   "source": [
    "After importing packages, it is necessary to download json data from API. Data are then merged and prepared in csv file."
   ]
  },
  {
   "cell_type": "code",
   "execution_count": 717,
   "metadata": {},
   "outputs": [
    {
     "name": "stderr",
     "output_type": "stream",
     "text": [
      "Downloading JSON data from API: 100%|██████████| 2/2 [00:02<00:00,  1.44s/it]\n",
      "Searching through the description for attributes:: 100%|██████████| 20/20 [00:00<00:00, 11210.22it/s]"
     ]
    },
    {
     "name": "stdout",
     "output_type": "stream",
     "text": [
      "Data prepared in csv file.\n"
     ]
    },
    {
     "name": "stderr",
     "output_type": "stream",
     "text": [
      "\n"
     ]
    }
   ],
   "source": [
    "swim = Swim()\n",
    "# swim.downloadPages() # update soup - change  -> už není potreba\n",
    "swim.mergeData() #- > vytvoreni csv souboru\n",
    "swim_data = pd.read_csv('raw_data.csv')"
   ]
  },
  {
   "cell_type": "markdown",
   "metadata": {},
   "source": [
    "We provide desriptive statistics, including only numeric columns. Since column *ID* and column *id_a* (which are identical) are not useful for the purpose of data description, we remove both of them."
   ]
  },
  {
   "cell_type": "code",
   "execution_count": 709,
   "metadata": {},
   "outputs": [
    {
     "data": {
      "text/html": [
       "<div>\n",
       "<style scoped>\n",
       "    .dataframe tbody tr th:only-of-type {\n",
       "        vertical-align: middle;\n",
       "    }\n",
       "\n",
       "    .dataframe tbody tr th {\n",
       "        vertical-align: top;\n",
       "    }\n",
       "\n",
       "    .dataframe thead th {\n",
       "        text-align: right;\n",
       "    }\n",
       "</style>\n",
       "<table border=\"1\" class=\"dataframe\">\n",
       "  <thead>\n",
       "    <tr style=\"text-align: right;\">\n",
       "      <th></th>\n",
       "      <th>Average rating</th>\n",
       "      <th>Number of ratings</th>\n",
       "      <th>Longitude</th>\n",
       "      <th>Latitude</th>\n",
       "    </tr>\n",
       "  </thead>\n",
       "  <tbody>\n",
       "    <tr>\n",
       "      <td>count</td>\n",
       "      <td>18.000000</td>\n",
       "      <td>20.000000</td>\n",
       "      <td>20.000000</td>\n",
       "      <td>20.000000</td>\n",
       "    </tr>\n",
       "    <tr>\n",
       "      <td>mean</td>\n",
       "      <td>4.168681</td>\n",
       "      <td>4.200000</td>\n",
       "      <td>49.114230</td>\n",
       "      <td>14.603510</td>\n",
       "    </tr>\n",
       "    <tr>\n",
       "      <td>std</td>\n",
       "      <td>0.834919</td>\n",
       "      <td>3.427443</td>\n",
       "      <td>2.100714</td>\n",
       "      <td>3.052217</td>\n",
       "    </tr>\n",
       "    <tr>\n",
       "      <td>min</td>\n",
       "      <td>2.000000</td>\n",
       "      <td>0.000000</td>\n",
       "      <td>41.760320</td>\n",
       "      <td>2.983775</td>\n",
       "    </tr>\n",
       "    <tr>\n",
       "      <td>25%</td>\n",
       "      <td>3.892857</td>\n",
       "      <td>1.750000</td>\n",
       "      <td>49.065163</td>\n",
       "      <td>14.315799</td>\n",
       "    </tr>\n",
       "    <tr>\n",
       "      <td>50%</td>\n",
       "      <td>4.387500</td>\n",
       "      <td>3.500000</td>\n",
       "      <td>50.001197</td>\n",
       "      <td>14.636598</td>\n",
       "    </tr>\n",
       "    <tr>\n",
       "      <td>75%</td>\n",
       "      <td>4.766667</td>\n",
       "      <td>5.500000</td>\n",
       "      <td>50.152053</td>\n",
       "      <td>15.829210</td>\n",
       "    </tr>\n",
       "    <tr>\n",
       "      <td>max</td>\n",
       "      <td>5.000000</td>\n",
       "      <td>12.000000</td>\n",
       "      <td>50.279876</td>\n",
       "      <td>19.445608</td>\n",
       "    </tr>\n",
       "  </tbody>\n",
       "</table>\n",
       "</div>"
      ],
      "text/plain": [
       "       Average rating  Number of ratings  Longitude   Latitude\n",
       "count       18.000000          20.000000  20.000000  20.000000\n",
       "mean         4.168681           4.200000  49.114230  14.603510\n",
       "std          0.834919           3.427443   2.100714   3.052217\n",
       "min          2.000000           0.000000  41.760320   2.983775\n",
       "25%          3.892857           1.750000  49.065163  14.315799\n",
       "50%          4.387500           3.500000  50.001197  14.636598\n",
       "75%          4.766667           5.500000  50.152053  15.829210\n",
       "max          5.000000          12.000000  50.279876  19.445608"
      ]
     },
     "execution_count": 709,
     "metadata": {},
     "output_type": "execute_result"
    }
   ],
   "source": [
    "swim_desc = swim_data.drop('id_a', 1).drop('ID', 1).drop('Unnamed: 0', 1)\n",
    "desc = swim_desc.describe(include = [np.number])\n",
    "\n",
    "desc"
   ]
  },
  {
   "cell_type": "markdown",
   "metadata": {},
   "source": [
    "To prepare data for another part, we will select only columns with Name, Latitude, Longitude and Average rating of each location. We display first rows of our data to make sure that they are in desired format."
   ]
  },
  {
   "cell_type": "code",
   "execution_count": 735,
   "metadata": {},
   "outputs": [
    {
     "data": {
      "text/html": [
       "<div>\n",
       "<style scoped>\n",
       "    .dataframe tbody tr th:only-of-type {\n",
       "        vertical-align: middle;\n",
       "    }\n",
       "\n",
       "    .dataframe tbody tr th {\n",
       "        vertical-align: top;\n",
       "    }\n",
       "\n",
       "    .dataframe thead th {\n",
       "        text-align: right;\n",
       "    }\n",
       "</style>\n",
       "<table border=\"1\" class=\"dataframe\">\n",
       "  <thead>\n",
       "    <tr style=\"text-align: right;\">\n",
       "      <th></th>\n",
       "      <th>Name</th>\n",
       "      <th>Latitude</th>\n",
       "      <th>Longitude</th>\n",
       "      <th>Average rating</th>\n",
       "      <th>Entrance</th>\n",
       "      <th>Nudist beach</th>\n",
       "    </tr>\n",
       "  </thead>\n",
       "  <tbody>\n",
       "    <tr>\n",
       "      <td>0</td>\n",
       "      <td>Costa Brava</td>\n",
       "      <td>2.983775</td>\n",
       "      <td>41.760320</td>\n",
       "      <td>NaN</td>\n",
       "      <td>No entrance fee</td>\n",
       "      <td>Not suitable for nudists</td>\n",
       "    </tr>\n",
       "    <tr>\n",
       "      <td>1</td>\n",
       "      <td>Nádrž Dolní Žleb</td>\n",
       "      <td>17.307842</td>\n",
       "      <td>49.751182</td>\n",
       "      <td>2.0</td>\n",
       "      <td>No entrance fee</td>\n",
       "      <td>Not suitable for nudists</td>\n",
       "    </tr>\n",
       "    <tr>\n",
       "      <td>2</td>\n",
       "      <td>Kralupy nad Vltavou</td>\n",
       "      <td>14.307153</td>\n",
       "      <td>50.256161</td>\n",
       "      <td>5.0</td>\n",
       "      <td>Entrance fee</td>\n",
       "      <td>Not suitable for nudists</td>\n",
       "    </tr>\n",
       "    <tr>\n",
       "      <td>3</td>\n",
       "      <td>Koupaliště Flošna</td>\n",
       "      <td>15.841977</td>\n",
       "      <td>50.205154</td>\n",
       "      <td>4.8</td>\n",
       "      <td>Entrance fee</td>\n",
       "      <td>Suitable for nudists</td>\n",
       "    </tr>\n",
       "    <tr>\n",
       "      <td>4</td>\n",
       "      <td>Městské lázně</td>\n",
       "      <td>15.828759</td>\n",
       "      <td>50.214217</td>\n",
       "      <td>4.5</td>\n",
       "      <td>Entrance fee</td>\n",
       "      <td>Not suitable for nudists</td>\n",
       "    </tr>\n",
       "  </tbody>\n",
       "</table>\n",
       "</div>"
      ],
      "text/plain": [
       "                  Name   Latitude  Longitude  Average rating         Entrance  \\\n",
       "0          Costa Brava   2.983775  41.760320             NaN  No entrance fee   \n",
       "1     Nádrž Dolní Žleb  17.307842  49.751182             2.0  No entrance fee   \n",
       "2  Kralupy nad Vltavou  14.307153  50.256161             5.0     Entrance fee   \n",
       "3    Koupaliště Flošna  15.841977  50.205154             4.8     Entrance fee   \n",
       "4        Městské lázně  15.828759  50.214217             4.5     Entrance fee   \n",
       "\n",
       "               Nudist beach  \n",
       "0  Not suitable for nudists  \n",
       "1  Not suitable for nudists  \n",
       "2  Not suitable for nudists  \n",
       "3      Suitable for nudists  \n",
       "4  Not suitable for nudists  "
      ]
     },
     "execution_count": 735,
     "metadata": {},
     "output_type": "execute_result"
    }
   ],
   "source": [
    "swim_loc = swim_data[['Name','Latitude','Longitude', 'Average rating', 'Entrance', 'Nudist beach']]\n",
    "swim_loc.head()"
   ]
  },
  {
   "cell_type": "markdown",
   "metadata": {},
   "source": [
    "To find a set of coordinates corresponding to the address, we use Nominatim imported from geopy.geocoders. Nominatim uses OpenStreetMap data to find any locations on Earth by name and address (geocoding) and to detect its coordinates. It can also do the reverse. \n",
    "\n",
    "Any user of this application can insert his location (city is enough) into the brackets and the application will determine precise address as well as the coordinates of that place."
   ]
  },
  {
   "cell_type": "code",
   "execution_count": 736,
   "metadata": {},
   "outputs": [
    {
     "name": "stdout",
     "output_type": "stream",
     "text": [
      "Your location is  Litomyšl, okres Svitavy, Pardubický kraj, Severovýchod, 570 01, Česká republika .\n",
      "Longitude = 16.3101243, Latitude = 49.8725491\n"
     ]
    }
   ],
   "source": [
    "geolocator = Nominatim(user_agent='myapplication')\n",
    "\n",
    "# Insert city of your location:\n",
    "location = geolocator.geocode(\"Litomyšl\")\n",
    "\n",
    "print(\"Your location is \", location.address, \".\")\n",
    "print(\"Longitude = {}, Latitude = {}\".format(location.longitude, location.latitude))"
   ]
  },
  {
   "cell_type": "markdown",
   "metadata": {},
   "source": [
    "Ater we know location of user, the application can measure the distance between that location and all the places in the dataset. We decided to use World Geodetic System (WGS) ellipsoid to measure the distances as it is a highly accurate approach."
   ]
  },
  {
   "cell_type": "code",
   "execution_count": 737,
   "metadata": {},
   "outputs": [
    {
     "data": {
      "text/html": [
       "<div>\n",
       "<style scoped>\n",
       "    .dataframe tbody tr th:only-of-type {\n",
       "        vertical-align: middle;\n",
       "    }\n",
       "\n",
       "    .dataframe tbody tr th {\n",
       "        vertical-align: top;\n",
       "    }\n",
       "\n",
       "    .dataframe thead th {\n",
       "        text-align: right;\n",
       "    }\n",
       "</style>\n",
       "<table border=\"1\" class=\"dataframe\">\n",
       "  <thead>\n",
       "    <tr style=\"text-align: right;\">\n",
       "      <th></th>\n",
       "      <th>Name</th>\n",
       "      <th>Average rating</th>\n",
       "      <th>Latitude_1</th>\n",
       "      <th>Longitude_1</th>\n",
       "      <th>Latitude_2</th>\n",
       "      <th>Longitude_2</th>\n",
       "      <th>Distance</th>\n",
       "    </tr>\n",
       "  </thead>\n",
       "  <tbody>\n",
       "    <tr>\n",
       "      <td>0</td>\n",
       "      <td>Costa Brava</td>\n",
       "      <td>NaN</td>\n",
       "      <td>49.872549</td>\n",
       "      <td>16.310124</td>\n",
       "      <td>2.983775</td>\n",
       "      <td>41.760320</td>\n",
       "      <td>5725.521722</td>\n",
       "    </tr>\n",
       "    <tr>\n",
       "      <td>1</td>\n",
       "      <td>Nádrž Dolní Žleb</td>\n",
       "      <td>2.0</td>\n",
       "      <td>49.872549</td>\n",
       "      <td>16.310124</td>\n",
       "      <td>17.307842</td>\n",
       "      <td>49.751182</td>\n",
       "      <td>4688.608866</td>\n",
       "    </tr>\n",
       "    <tr>\n",
       "      <td>2</td>\n",
       "      <td>Kralupy nad Vltavou</td>\n",
       "      <td>5.0</td>\n",
       "      <td>49.872549</td>\n",
       "      <td>16.310124</td>\n",
       "      <td>14.307153</td>\n",
       "      <td>50.256161</td>\n",
       "      <td>5000.285866</td>\n",
       "    </tr>\n",
       "    <tr>\n",
       "      <td>3</td>\n",
       "      <td>Koupaliště Flošna</td>\n",
       "      <td>4.8</td>\n",
       "      <td>49.872549</td>\n",
       "      <td>16.310124</td>\n",
       "      <td>15.841977</td>\n",
       "      <td>50.205154</td>\n",
       "      <td>4852.033516</td>\n",
       "    </tr>\n",
       "    <tr>\n",
       "      <td>4</td>\n",
       "      <td>Městské lázně</td>\n",
       "      <td>4.5</td>\n",
       "      <td>49.872549</td>\n",
       "      <td>16.310124</td>\n",
       "      <td>15.828759</td>\n",
       "      <td>50.214217</td>\n",
       "      <td>4853.787915</td>\n",
       "    </tr>\n",
       "  </tbody>\n",
       "</table>\n",
       "</div>"
      ],
      "text/plain": [
       "                  Name  Average rating  Latitude_1  Longitude_1  Latitude_2  \\\n",
       "0          Costa Brava             NaN   49.872549    16.310124    2.983775   \n",
       "1     Nádrž Dolní Žleb             2.0   49.872549    16.310124   17.307842   \n",
       "2  Kralupy nad Vltavou             5.0   49.872549    16.310124   14.307153   \n",
       "3    Koupaliště Flošna             4.8   49.872549    16.310124   15.841977   \n",
       "4        Městské lázně             4.5   49.872549    16.310124   15.828759   \n",
       "\n",
       "   Longitude_2     Distance  \n",
       "0    41.760320  5725.521722  \n",
       "1    49.751182  4688.608866  \n",
       "2    50.256161  5000.285866  \n",
       "3    50.205154  4852.033516  \n",
       "4    50.214217  4853.787915  "
      ]
     },
     "execution_count": 737,
     "metadata": {},
     "output_type": "execute_result"
    }
   ],
   "source": [
    "#We use World Geodetic System ellipsoid to measure the distance.\n",
    "g = Geod(ellps='WGS84')\n",
    "\n",
    "#We declare a function measuring distance between pairs of latitude-longitude points.\n",
    "def Distance(name, lat1, lon1, lat2, lon2, rating):\n",
    "    az12,az21,dist = g.inv(lon1, lat1, lon2, lat2)\n",
    "    return dist\n",
    "\n",
    "#As lat1 and lon1, we will use latitude and longitude of user's location.\n",
    "name = swim_loc['Name']\n",
    "lat1 = location.latitude\n",
    "lon1 = location.longitude\n",
    "lat2 = swim_loc['Latitude']\n",
    "lon2 = swim_loc['Longitude']\n",
    "rating = swim_loc['Average rating']\n",
    "\n",
    "#We define new dataframe including values of columns from swim_loc.\n",
    "df = pd.DataFrame({'Name':name,'Average rating':rating,'Latitude_1':lat1,'Longitude_1':lon1,'Latitude_2':lat2,'Longitude_2':lon2})\n",
    "\n",
    "#We add a column with distance in metres using distance function.\n",
    "df['Distance'] = Distance(df['Name'].tolist(),df['Latitude_1'].tolist(),df['Longitude_1'].tolist(),df['Latitude_2'].tolist(),df['Longitude_2'].tolist(),df['Average rating'].tolist())\n",
    "\n",
    "#Then we convert column with distance to kilometers and display first rows of new dataframe.\n",
    "df['Distance'] = (1/1000)*df['Distance']\n",
    "\n",
    "df.head()"
   ]
  },
  {
   "cell_type": "markdown",
   "metadata": {},
   "source": [
    "We select 5 geographically nearest places to user's location and sort those places by the average rating."
   ]
  },
  {
   "cell_type": "code",
   "execution_count": 738,
   "metadata": {},
   "outputs": [
    {
     "data": {
      "text/html": [
       "<div>\n",
       "<style scoped>\n",
       "    .dataframe tbody tr th:only-of-type {\n",
       "        vertical-align: middle;\n",
       "    }\n",
       "\n",
       "    .dataframe tbody tr th {\n",
       "        vertical-align: top;\n",
       "    }\n",
       "\n",
       "    .dataframe thead th {\n",
       "        text-align: right;\n",
       "    }\n",
       "</style>\n",
       "<table border=\"1\" class=\"dataframe\">\n",
       "  <thead>\n",
       "    <tr style=\"text-align: right;\">\n",
       "      <th></th>\n",
       "      <th>Name</th>\n",
       "      <th>Average rating</th>\n",
       "      <th>Latitude_2</th>\n",
       "      <th>Longitude_2</th>\n",
       "      <th>Distance</th>\n",
       "    </tr>\n",
       "  </thead>\n",
       "  <tbody>\n",
       "    <tr>\n",
       "      <td>0</td>\n",
       "      <td>Nádrž Dolní Žleb</td>\n",
       "      <td>2.0</td>\n",
       "      <td>17.307842</td>\n",
       "      <td>49.751182</td>\n",
       "      <td>4689.0</td>\n",
       "    </tr>\n",
       "    <tr>\n",
       "      <td>1</td>\n",
       "      <td>Plavecký bazén Ústí nad Orlicí</td>\n",
       "      <td>4.0</td>\n",
       "      <td>16.402715</td>\n",
       "      <td>49.975747</td>\n",
       "      <td>4786.0</td>\n",
       "    </tr>\n",
       "    <tr>\n",
       "      <td>2</td>\n",
       "      <td>Termální koupaliště Bešeňová</td>\n",
       "      <td>4.0</td>\n",
       "      <td>19.445608</td>\n",
       "      <td>49.100166</td>\n",
       "      <td>4452.0</td>\n",
       "    </tr>\n",
       "    <tr>\n",
       "      <td>3</td>\n",
       "      <td>Sluneční pláž</td>\n",
       "      <td>5.0</td>\n",
       "      <td>15.782788</td>\n",
       "      <td>50.033879</td>\n",
       "      <td>4848.0</td>\n",
       "    </tr>\n",
       "    <tr>\n",
       "      <td>4</td>\n",
       "      <td>Romantická pláž</td>\n",
       "      <td>5.0</td>\n",
       "      <td>14.768348</td>\n",
       "      <td>44.922321</td>\n",
       "      <td>4676.0</td>\n",
       "    </tr>\n",
       "  </tbody>\n",
       "</table>\n",
       "</div>"
      ],
      "text/plain": [
       "                             Name  Average rating  Latitude_2  Longitude_2  \\\n",
       "0                Nádrž Dolní Žleb             2.0   17.307842    49.751182   \n",
       "1  Plavecký bazén Ústí nad Orlicí             4.0   16.402715    49.975747   \n",
       "2    Termální koupaliště Bešeňová             4.0   19.445608    49.100166   \n",
       "3                   Sluneční pláž             5.0   15.782788    50.033879   \n",
       "4                 Romantická pláž             5.0   14.768348    44.922321   \n",
       "\n",
       "   Distance  \n",
       "0    4689.0  \n",
       "1    4786.0  \n",
       "2    4452.0  \n",
       "3    4848.0  \n",
       "4    4676.0  "
      ]
     },
     "execution_count": 738,
     "metadata": {},
     "output_type": "execute_result"
    }
   ],
   "source": [
    "#We define new dataframe with 5 geographicaly nearest places to user's location. \n",
    "df_map = df.nsmallest(5, columns=['Distance']).sort_values(['Average rating'], ascending=[True])\n",
    "\n",
    "#We remove columns Latitude 1 and Longitude 1 as those coordinates are identical for all rows and we don't need them.\n",
    "df_map.drop(['Latitude_1','Longitude_1'], axis=1, inplace=True)\n",
    "\n",
    "#Then, we reset indexing of rows for easier manipulation with data in future steps.\n",
    "df_map.reset_index(drop=True, inplace=True)\n",
    "\n",
    "#We round values in column Average rating and Distance to one decimal point and display the result.\n",
    "df_map['Average rating'] = df_map['Average rating'].round()\n",
    "df_map['Distance'] = df_map['Distance'].round()\n",
    "\n",
    "df_map"
   ]
  },
  {
   "cell_type": "markdown",
   "metadata": {},
   "source": [
    "### Data visualization"
   ]
  },
  {
   "cell_type": "markdown",
   "metadata": {},
   "source": [
    "In the final part, we will analyze and visualize collected and summarized data.\n",
    "\n",
    "First, we will map all the points from the original dataset, using the Folium module. Since most of the places are located in the Czech Republic, we put latitude and longitude of Czech Republic as the initial coordinates of the map."
   ]
  },
  {
   "cell_type": "code",
   "execution_count": 739,
   "metadata": {
    "scrolled": true
   },
   "outputs": [
    {
     "name": "stderr",
     "output_type": "stream",
     "text": [
      "/Users/Andrea/opt/anaconda3/lib/python3.7/site-packages/ipykernel_launcher.py:2: SettingWithCopyWarning: \n",
      "A value is trying to be set on a copy of a slice from a DataFrame.\n",
      "Try using .loc[row_indexer,col_indexer] = value instead\n",
      "\n",
      "See the caveats in the documentation: http://pandas.pydata.org/pandas-docs/stable/user_guide/indexing.html#returning-a-view-versus-a-copy\n",
      "  \n"
     ]
    },
    {
     "data": {
      "text/html": [
       "<div style=\"width:100%;\"><div style=\"position:relative;width:100%;height:0;padding-bottom:60%;\"><span style=\"color:#565656\">Make this Notebook Trusted to load map: File -> Trust Notebook</span><iframe src=\"about:blank\" style=\"position:absolute;width:100%;height:100%;left:0;top:0;border:none !important;\" data-html=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 onload=\"this.contentDocument.open();this.contentDocument.write(atob(this.getAttribute('data-html')));this.contentDocument.close();\" allowfullscreen webkitallowfullscreen mozallowfullscreen></iframe></div></div>"
      ],
      "text/plain": [
       "<folium.folium.Map at 0x1a22812b10>"
      ]
     },
     "execution_count": 739,
     "metadata": {},
     "output_type": "execute_result"
    }
   ],
   "source": [
    "#We need to remove punctuation from 'Name' column since the map does not display those letters correctly.\n",
    "swim_loc['Name'] = swim_loc['Name'].str.replace('á','a').str.replace('í','i').str.replace('é','e').str.replace('ě','e').str.replace('š','s').str.replace('Š','S').str.replace('č','c').str.replace('Č','C').str.replace('ř','r').str.replace('Ř','R').str.replace('ž','z').str.replace('Ž','Z').str.replace('ý','y').str.replace('ů','u').str.replace('ú','u').str.replace('Ú','U').str.replace('ň','n')\n",
    "\n",
    "#We create map object using Folium. Based on our preferences, we set tiles to cartodbpositron and zoom_start to 8.\n",
    "map0 = folium.Map(\n",
    "    location=[49.8037633, 15.4749126],\n",
    "    tiles='cartodbpositron',\n",
    "    zoom_start=8)\n",
    "\n",
    "#Then we create a list of latitude and longitude coordinate pairs.\n",
    "map_locations0 = swim_loc[['Latitude', 'Longitude']]\n",
    "locationlist0 = map_locations0.values.tolist()\n",
    "\n",
    "#We set parameters of markers so that all points are well visible and recognizable. We add these markers to our map.\n",
    "for point in range(0, len(locationlist0)):\n",
    "    folium.Marker(locationlist0[point], \n",
    "                  popup=swim_loc['Name'][point], \n",
    "                  icon=folium.Icon(color='darkblue', icon='tint')\n",
    "                 ).add_to(map0)    \n",
    "    \n",
    "#We create marker clusters that group points that overlap.\n",
    "marker_cluster = folium.plugins.MarkerCluster().add_to(map0)    \n",
    "    \n",
    "map0"
   ]
  },
  {
   "cell_type": "markdown",
   "metadata": {},
   "source": [
    "..."
   ]
  },
  {
   "cell_type": "code",
   "execution_count": 740,
   "metadata": {},
   "outputs": [
    {
     "data": {
      "text/html": [
       "<div style=\"width:100%;\"><div style=\"position:relative;width:100%;height:0;padding-bottom:60%;\"><span style=\"color:#565656\">Make this Notebook Trusted to load map: File -> Trust Notebook</span><iframe src=\"about:blank\" style=\"position:absolute;width:100%;height:100%;left:0;top:0;border:none !important;\" data-html=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 onload=\"this.contentDocument.open();this.contentDocument.write(atob(this.getAttribute('data-html')));this.contentDocument.close();\" allowfullscreen webkitallowfullscreen mozallowfullscreen></iframe></div></div>"
      ],
      "text/plain": [
       "<folium.folium.Map at 0x1a22848f50>"
      ]
     },
     "execution_count": 740,
     "metadata": {},
     "output_type": "execute_result"
    }
   ],
   "source": [
    "#We need to remove punctuation from 'Name' column since the map does not display those letters correctly.\n",
    "df_map['Name'] = df_map['Name'].str.replace('á','a').str.replace('í','i').str.replace('é','e').str.replace('ě','e').str.replace('š','s').str.replace('Š','S').str.replace('č','c').str.replace('Č','C').str.replace('ř','r').str.replace('Ř','R').str.replace('ž','z').str.replace('Ž','Z').str.replace('ý','y').str.replace('ů','u').str.replace('ú','u').str.replace('Ú','U').str.replace('ň','n')\n",
    "\n",
    "\n",
    "#We create map object using Folium. Based on our preferences, we set tiles to cartodbpositron and zoom_start to 10.\n",
    "map1 = folium.Map(\n",
    "    location=[location.latitude, location.longitude],\n",
    "    tiles='cartodbpositron',\n",
    "    zoom_start=10)\n",
    "\n",
    "#Then we create a list of latitude and longitude coordinate pairs.\n",
    "map_locations = df_map[['Latitude_2', 'Longitude_2']]\n",
    "locationlist = map_locations.values.tolist()\n",
    "\n",
    "\n",
    "for point in range(0, len(locationlist)):\n",
    "    folium.Marker(locationlist[point], popup=df_map['Name'][point], icon=folium.Icon(color='darkblue', icon='tint')).add_to(map1)\n",
    "\n",
    "\n",
    "folium.Marker(location =[location.latitude, location.longitude],\n",
    "                    icon = folium.Icon(color = 'gray', icon = 'home'),).add_to(map1)\n",
    "\n",
    "\n",
    "map1"
   ]
  },
  {
   "cell_type": "markdown",
   "metadata": {},
   "source": [
    "Another data visualization is useful for people looking for a place to swim and not willing to pay an entrance fee. Places without entrance fee are marked as green circles, while places with entrance fee of any value are marked as red circles."
   ]
  },
  {
   "cell_type": "code",
   "execution_count": 741,
   "metadata": {},
   "outputs": [
    {
     "data": {
      "text/html": [
       "<div style=\"width:100%;\"><div style=\"position:relative;width:100%;height:0;padding-bottom:60%;\"><span style=\"color:#565656\">Make this Notebook Trusted to load map: File -> Trust Notebook</span><iframe src=\"about:blank\" style=\"position:absolute;width:100%;height:100%;left:0;top:0;border:none !important;\" data-html=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 onload=\"this.contentDocument.open();this.contentDocument.write(atob(this.getAttribute('data-html')));this.contentDocument.close();\" allowfullscreen webkitallowfullscreen mozallowfullscreen></iframe></div></div>"
      ],
      "text/plain": [
       "<folium.folium.Map at 0x1a227adb90>"
      ]
     },
     "execution_count": 741,
     "metadata": {},
     "output_type": "execute_result"
    }
   ],
   "source": [
    "#preparing data with needed columns\n",
    "swim_entr = swim_loc[['Name','Latitude','Longitude', 'Entrance']]\n",
    "\n",
    "#creating map object\n",
    "map_entr = folium.Map(\n",
    "    location=[49.8038, 15.4749],\n",
    "    tiles='cartodbpositron',\n",
    "    zoom_start=8\n",
    "    )\n",
    "\n",
    "#creating a dictionary for the colors of markers\n",
    "colordict = {'Entrance fee': 'red', 'No entrance fee': 'lightgreen'}\n",
    "\n",
    "#setting CircleMarker parameters\n",
    "for lat, lon, name, entrance in zip(swim_entr['Latitude'], swim_entr['Longitude'], swim_entr['Name'], swim_entr['Entrance']):\n",
    "    folium.CircleMarker(\n",
    "        location = [lat, lon],\n",
    "        popup = ('Name: ' + str(name).capitalize() + '<br>' 'Entrance: ' + str(entrance)),\n",
    "        color = 'b',\n",
    "        fill_color = colordict[entrance],\n",
    "        fill = True,\n",
    "        fill_opacity = 0.8\n",
    "        ).add_to(map_entr)\n",
    "\n",
    "#visualization of map\n",
    "map_entr"
   ]
  },
  {
   "cell_type": "markdown",
   "metadata": {},
   "source": [
    "Since there are people who enjoy swimming and catching the sun without their clothes, we prepared a map representing locations to swim that are suitable for nudists. Places suitable for nudists are marked as pink circles and places not suitable for nudists are marked as dark red circles."
   ]
  },
  {
   "cell_type": "code",
   "execution_count": 742,
   "metadata": {},
   "outputs": [
    {
     "data": {
      "text/html": [
       "<div style=\"width:100%;\"><div style=\"position:relative;width:100%;height:0;padding-bottom:60%;\"><span style=\"color:#565656\">Make this Notebook Trusted to load map: File -> Trust Notebook</span><iframe src=\"about:blank\" style=\"position:absolute;width:100%;height:100%;left:0;top:0;border:none !important;\" data-html=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 onload=\"this.contentDocument.open();this.contentDocument.write(atob(this.getAttribute('data-html')));this.contentDocument.close();\" allowfullscreen webkitallowfullscreen mozallowfullscreen></iframe></div></div>"
      ],
      "text/plain": [
       "<folium.folium.Map at 0x1a22583ad0>"
      ]
     },
     "execution_count": 742,
     "metadata": {},
     "output_type": "execute_result"
    }
   ],
   "source": [
    "#preparing data with needed columns\n",
    "swim_nudist = swim_loc[['Name','Latitude','Longitude', 'Average rating', 'Nudist beach']]\n",
    "\n",
    "#creating map object\n",
    "map_nudist = folium.Map(\n",
    "    location=[49.8038, 15.4749],\n",
    "    tiles='cartodbpositron',\n",
    "    zoom_start=8\n",
    "    )\n",
    "\n",
    "#creating a dictionary for the colors of markers\n",
    "colordict = {'Suitable for nudists': 'pink', 'Not suitable for nudists': 'darkred'}\n",
    "\n",
    "#setting CircleMarker parameters\n",
    "for lat, lon, name, nudist in zip(swim_nudist['Latitude'], swim_nudist['Longitude'], swim_nudist['Name'], swim_nudist['Nudist beach']):\n",
    "    folium.CircleMarker(\n",
    "        location = [lat, lon],\n",
    "        popup = ('Name: ' + str(name).capitalize() + '<br>' 'Nudist beach: ' + str(nudist)),\n",
    "        color = 'b',\n",
    "        fill_color = colordict[nudist],\n",
    "        fill = True,\n",
    "        fill_opacity = 0.8\n",
    "        ).add_to(map_nudist)\n",
    "\n",
    "#visualization of map\n",
    "map_nudist"
   ]
  },
  {
   "cell_type": "code",
   "execution_count": 763,
   "metadata": {},
   "outputs": [
    {
     "data": {
      "text/html": [
       "<div style=\"width:100%;\"><div style=\"position:relative;width:100%;height:0;padding-bottom:60%;\"><span style=\"color:#565656\">Make this Notebook Trusted to load map: File -> Trust Notebook</span><iframe src=\"about:blank\" style=\"position:absolute;width:100%;height:100%;left:0;top:0;border:none !important;\" data-html=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 onload=\"this.contentDocument.open();this.contentDocument.write(atob(this.getAttribute('data-html')));this.contentDocument.close();\" allowfullscreen webkitallowfullscreen mozallowfullscreen></iframe></div></div>"
      ],
      "text/plain": [
       "<folium.folium.Map at 0x1a22520610>"
      ]
     },
     "execution_count": 763,
     "metadata": {},
     "output_type": "execute_result"
    }
   ],
   "source": [
    "#preparing data with needed columns\n",
    "swim_rating = swim_loc[['Name','Latitude','Longitude', 'Average rating']]\n",
    "\n",
    "#rounding column with average rating to whole numbers\n",
    "av_rat = swim_rating[['Average rating']]\n",
    "swim_rating.loc[:, av_rat.columns] = np.round(av_rat)\n",
    "\n",
    "\n",
    "#replacing NaN values with \"x\"\n",
    "swim_rating.loc[np.isnan(swim_rating[\"Average rating\"]), 'Average rating'] = 'x'\n",
    "\n",
    "\n",
    "#creating map object\n",
    "map_rating = folium.Map(\n",
    "    location=[49.8038, 15.4749],\n",
    "    tiles='cartodbpositron',\n",
    "    zoom_start=8\n",
    "    )\n",
    "\n",
    "#creating a dictionary for the colors of markers\n",
    "colordict = {'x': 'grey',\n",
    "             5: 'seagreen', \n",
    "             4: 'springgreen', \n",
    "             3: 'orange',\n",
    "             2: 'red',\n",
    "             1: 'firebrick'\n",
    "            }\n",
    "\n",
    "#setting CircleMarker parameters\n",
    "for lat, lon, name, rating in zip(swim_rating['Latitude'], swim_rating['Longitude'], swim_rating['Name'], swim_rating['Average rating']):\n",
    "    folium.CircleMarker(\n",
    "        location = [lat, lon],\n",
    "        popup = ('Name: ' + str(name).capitalize() + '<br>' 'Average rating: ' + str(rating)),\n",
    "        color = 'b',\n",
    "        fill_color = colordict[rating],\n",
    "        fill = True,\n",
    "        fill_opacity = 0.5\n",
    "        ).add_to(map_rating)\n",
    "\n",
    "#visualization of map\n",
    "map_rating"
   ]
  },
  {
   "cell_type": "markdown",
   "metadata": {},
   "source": [
    "__Next steps:__\n",
    "- improve the Class\n",
    "- Clean dataframe & check validity\n",
    "- Analysis of data:\n",
    "    - Descriptive stats\n",
    "    - Visualization"
   ]
  }
 ],
 "metadata": {
  "kernelspec": {
   "display_name": "Python 3",
   "language": "python",
   "name": "python3"
  },
  "language_info": {
   "codemirror_mode": {
    "name": "ipython",
    "version": 3
   },
   "file_extension": ".py",
   "mimetype": "text/x-python",
   "name": "python",
   "nbconvert_exporter": "python",
   "pygments_lexer": "ipython3",
   "version": "3.7.4"
  }
 },
 "nbformat": 4,
 "nbformat_minor": 4
}
